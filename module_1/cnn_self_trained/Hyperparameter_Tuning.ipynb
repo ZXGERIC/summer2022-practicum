{
  "nbformat": 4,
  "nbformat_minor": 0,
  "metadata": {
    "colab": {
      "name": "Hyperparameter Tuning.ipynb",
      "provenance": [],
      "collapsed_sections": [],
      "toc_visible": true
    },
    "kernelspec": {
      "name": "python3",
      "display_name": "Python 3"
    },
    "language_info": {
      "name": "python"
    }
  },
  "cells": [
    {
      "cell_type": "markdown",
      "source": [
        "Pleaes run preprocess_Data module first before run this module.\n",
        "\n",
        "Author: xzhang867"
      ],
      "metadata": {
        "id": "hxNep-2tgRMj"
      }
    },
    {
      "cell_type": "markdown",
      "source": [
        "## Install Packages"
      ],
      "metadata": {
        "id": "P2eW8tUgIiNK"
      }
    },
    {
      "cell_type": "code",
      "source": [
        "!pip install keras-tuner"
      ],
      "metadata": {
        "id": "T6Tia8EoIf4g"
      },
      "execution_count": null,
      "outputs": []
    },
    {
      "cell_type": "markdown",
      "source": [
        "## Import Packages"
      ],
      "metadata": {
        "id": "wWYyfm9N1YY0"
      }
    },
    {
      "cell_type": "code",
      "execution_count": 2,
      "metadata": {
        "id": "XHcg5InKi1KR"
      },
      "outputs": [],
      "source": [
        "import pandas as pd\n",
        "\n",
        "import tensorflow as tf\n",
        "import keras_tuner as kt\n",
        "\n",
        "from keras.preprocessing.image import ImageDataGenerator\n",
        "from keras.models import Sequential\n",
        "from keras.layers import Conv2D, MaxPooling2D\n",
        "from keras.layers import Activation, Dropout, Flatten, Dense\n",
        "from keras import backend as K\n",
        "from google.colab import drive\n",
        "\n",
        "from tensorflow import keras\n"
      ]
    },
    {
      "cell_type": "markdown",
      "source": [
        "## Map Google Drive"
      ],
      "metadata": {
        "id": "ggAO2PuU17fr"
      }
    },
    {
      "cell_type": "code",
      "source": [
        "drive.mount('/content/drive')"
      ],
      "metadata": {
        "colab": {
          "base_uri": "https://localhost:8080/"
        },
        "id": "6a9oHzOLsxbc",
        "outputId": "915f69b9-e766-4b50-8cdd-9a60be90571d"
      },
      "execution_count": 3,
      "outputs": [
        {
          "output_type": "stream",
          "name": "stdout",
          "text": [
            "Drive already mounted at /content/drive; to attempt to forcibly remount, call drive.mount(\"/content/drive\", force_remount=True).\n"
          ]
        }
      ]
    },
    {
      "cell_type": "markdown",
      "source": [
        "## Build CNN Model"
      ],
      "metadata": {
        "id": "z_YzOsA1EC5x"
      }
    },
    {
      "cell_type": "markdown",
      "source": [
        "### Set Common Parameters\n",
        "\n"
      ],
      "metadata": {
        "id": "zPV-t0CK2VB_"
      }
    },
    {
      "cell_type": "code",
      "source": [
        "nb_train_samples =2312\n",
        "nb_validation_samples = 663\n",
        "epochs = 10\n",
        "img_width, img_height = 256, 256\n",
        "batch_size = 16"
      ],
      "metadata": {
        "id": "COPIuzk5jL1t"
      },
      "execution_count": 4,
      "outputs": []
    },
    {
      "cell_type": "markdown",
      "source": [
        "### Generate Training Dataset"
      ],
      "metadata": {
        "id": "dszwTIhr2q7K"
      }
    },
    {
      "cell_type": "code",
      "source": [
        "train_data_dir = '/content/drive/MyDrive/practicum/data_image_classification/train'\n",
        "\n",
        "train_datagen = ImageDataGenerator(\n",
        "\trescale=1. / 255,\n",
        "\tshear_range=0.2,\n",
        "\tzoom_range=0.2,\n",
        "\thorizontal_flip=True)\n",
        "\n",
        "train_generator = train_datagen.flow_from_directory(\n",
        "\ttrain_data_dir,\n",
        "\ttarget_size=(img_width, img_height),\n",
        "\tbatch_size=batch_size,\n",
        "\tclass_mode='categorical')"
      ],
      "metadata": {
        "colab": {
          "base_uri": "https://localhost:8080/"
        },
        "id": "LZZmu4PuEzm5",
        "outputId": "7fafeb8f-2c8f-4331-fdc3-c9057d1e147d"
      },
      "execution_count": 5,
      "outputs": [
        {
          "output_type": "stream",
          "name": "stdout",
          "text": [
            "Found 2312 images belonging to 5 classes.\n"
          ]
        }
      ]
    },
    {
      "cell_type": "markdown",
      "source": [
        "### Generate Validation Dataset"
      ],
      "metadata": {
        "id": "Rs2JDw2B3FBY"
      }
    },
    {
      "cell_type": "code",
      "source": [
        "validation_data_dir = '/content/drive/MyDrive/practicum/data_image_classification/validation'\n",
        "\n",
        "validation_datagen = ImageDataGenerator(rescale=1. / 255)\n",
        "\n",
        "validation_generator = validation_datagen.flow_from_directory(\n",
        "\tvalidation_data_dir,\n",
        "\ttarget_size=(img_width, img_height),\n",
        "\tbatch_size=batch_size,\n",
        "\tclass_mode='categorical')"
      ],
      "metadata": {
        "colab": {
          "base_uri": "https://localhost:8080/"
        },
        "id": "BGRD-NYGF7WL",
        "outputId": "00541f28-9a83-4ae8-8405-628ff2f71ed7"
      },
      "execution_count": 6,
      "outputs": [
        {
          "output_type": "stream",
          "name": "stdout",
          "text": [
            "Found 663 images belonging to 5 classes.\n"
          ]
        }
      ]
    },
    {
      "cell_type": "markdown",
      "source": [
        "### Generate Test Dataset"
      ],
      "metadata": {
        "id": "U00VfkBcc935"
      }
    },
    {
      "cell_type": "code",
      "source": [
        "test_data_dir = '/content/drive/MyDrive/practicum/data_image_classification/test'\n",
        "\n",
        "test_datagen = ImageDataGenerator(rescale=1. / 255)\n",
        "\n",
        "test_generator = test_datagen.flow_from_directory(\n",
        "\ttest_data_dir,\n",
        "\ttarget_size=(img_width, img_height),\n",
        "\tbatch_size=batch_size,\n",
        "\tclass_mode='categorical')"
      ],
      "metadata": {
        "colab": {
          "base_uri": "https://localhost:8080/"
        },
        "id": "9iz3Vz-pc87p",
        "outputId": "9996f792-aa1e-476c-efc0-2971e1f461bc"
      },
      "execution_count": 7,
      "outputs": [
        {
          "output_type": "stream",
          "name": "stdout",
          "text": [
            "Found 328 images belonging to 5 classes.\n"
          ]
        }
      ]
    },
    {
      "cell_type": "markdown",
      "source": [
        "### Prepare CNN Model"
      ],
      "metadata": {
        "id": "DtWLIFrh39la"
      }
    },
    {
      "cell_type": "code",
      "source": [
        "if K.image_data_format() == 'channels_first':\n",
        "    input_shape = (3, img_width, img_height)\n",
        "else:\n",
        "    input_shape = (img_width, img_height, 3)\n"
      ],
      "metadata": {
        "id": "HfREddw5bkm0"
      },
      "execution_count": 8,
      "outputs": []
    },
    {
      "cell_type": "code",
      "source": [
        "def model_builder(hp):\n",
        "  '''\n",
        "  Args:\n",
        "    hp - Keras tuner object\n",
        "  '''\n",
        "  # initiate CNN model\n",
        "  model = Sequential()\n",
        "  model.add(Conv2D(32, (2, 2), input_shape=input_shape))\n",
        "  model.add(Activation('relu'))\n",
        "  model.add(MaxPooling2D(pool_size=(2, 2)))\n",
        "\n",
        "  # add layer\n",
        "  model.add(Conv2D(32, (2, 2)))\n",
        "  model.add(Activation('relu'))\n",
        "  model.add(MaxPooling2D(pool_size=(2, 2)))\n",
        "\n",
        "  # add layer\n",
        "  model.add(Conv2D(64, (2, 2)))\n",
        "  model.add(Activation('relu'))\n",
        "  model.add(MaxPooling2D(pool_size=(2, 2)))\n",
        "\n",
        "  model.add(Flatten())\n",
        "  model.add(Dense(hp.Choice('units', [8, 16, 32, 64, 128, 256])))\n",
        "  model.add(Activation('relu'))\n",
        "\n",
        "  # add dropout to avoid overfitting\n",
        "  model.add(Dropout(0.5))\n",
        "\n",
        "  # output layer contains 5 neuron\n",
        "  model.add(Dense(5))\n",
        "  model.add(Activation('softmax'))\n",
        "\n",
        "  hp_learning_rate = hp.Choice('learning_rate', values=[1e-2, 1e-3, 1e-4])\n",
        "\n",
        "  model.compile(loss='categorical_crossentropy',\n",
        "\t\t\toptimizer= keras.optimizers.RMSprop(learning_rate=hp_learning_rate),\n",
        "\t\t\tmetrics=['accuracy'])\n",
        "  \n",
        "  return model"
      ],
      "metadata": {
        "id": "dKqH78blRBA5"
      },
      "execution_count": 9,
      "outputs": []
    },
    {
      "cell_type": "markdown",
      "source": [
        "### Tune the Hyperparameters"
      ],
      "metadata": {
        "id": "J3CK-kwGZPYX"
      }
    },
    {
      "cell_type": "code",
      "source": [
        "tuner = kt.RandomSearch(\n",
        "    model_builder,\n",
        "    objective='val_accuracy',\n",
        "    max_trials=10)\n",
        "\n",
        "tuner.search(train_generator, epochs=10, validation_data=validation_generator)\n",
        "\n",
        "best_model = tuner.get_best_models()[0]"
      ],
      "metadata": {
        "colab": {
          "base_uri": "https://localhost:8080/"
        },
        "id": "hdOONXXJZOic",
        "outputId": "eb1ec14a-3208-4c50-ff36-4a5a2eb136f2"
      },
      "execution_count": 10,
      "outputs": [
        {
          "output_type": "stream",
          "name": "stdout",
          "text": [
            "Trial 10 Complete [00h 32m 45s]\n",
            "val_accuracy: 0.7375565767288208\n",
            "\n",
            "Best val_accuracy So Far: 0.7888386249542236\n",
            "Total elapsed time: 03h 10m 51s\n",
            "INFO:tensorflow:Oracle triggered exit\n"
          ]
        }
      ]
    },
    {
      "cell_type": "markdown",
      "source": [
        "## Save Model"
      ],
      "metadata": {
        "id": "4Yj8LIP9enkW"
      }
    },
    {
      "cell_type": "markdown",
      "source": [
        "## Evaluate Model (Test Data)"
      ],
      "metadata": {
        "id": "aIgvPHiReh7U"
      }
    },
    {
      "cell_type": "code",
      "source": [
        "best_model.summary()"
      ],
      "metadata": {
        "id": "MXAOqr6yYXOy",
        "colab": {
          "base_uri": "https://localhost:8080/"
        },
        "outputId": "ff8658d9-cdfd-46cf-97ff-5ae03eba93d9"
      },
      "execution_count": 11,
      "outputs": [
        {
          "output_type": "stream",
          "name": "stdout",
          "text": [
            "Model: \"sequential\"\n",
            "_________________________________________________________________\n",
            " Layer (type)                Output Shape              Param #   \n",
            "=================================================================\n",
            " conv2d (Conv2D)             (None, 255, 255, 32)      416       \n",
            "                                                                 \n",
            " activation (Activation)     (None, 255, 255, 32)      0         \n",
            "                                                                 \n",
            " max_pooling2d (MaxPooling2D  (None, 127, 127, 32)     0         \n",
            " )                                                               \n",
            "                                                                 \n",
            " conv2d_1 (Conv2D)           (None, 126, 126, 32)      4128      \n",
            "                                                                 \n",
            " activation_1 (Activation)   (None, 126, 126, 32)      0         \n",
            "                                                                 \n",
            " max_pooling2d_1 (MaxPooling  (None, 63, 63, 32)       0         \n",
            " 2D)                                                             \n",
            "                                                                 \n",
            " conv2d_2 (Conv2D)           (None, 62, 62, 64)        8256      \n",
            "                                                                 \n",
            " activation_2 (Activation)   (None, 62, 62, 64)        0         \n",
            "                                                                 \n",
            " max_pooling2d_2 (MaxPooling  (None, 31, 31, 64)       0         \n",
            " 2D)                                                             \n",
            "                                                                 \n",
            " flatten (Flatten)           (None, 61504)             0         \n",
            "                                                                 \n",
            " dense (Dense)               (None, 128)               7872640   \n",
            "                                                                 \n",
            " activation_3 (Activation)   (None, 128)               0         \n",
            "                                                                 \n",
            " dropout (Dropout)           (None, 128)               0         \n",
            "                                                                 \n",
            " dense_1 (Dense)             (None, 5)                 645       \n",
            "                                                                 \n",
            " activation_4 (Activation)   (None, 5)                 0         \n",
            "                                                                 \n",
            "=================================================================\n",
            "Total params: 7,886,085\n",
            "Trainable params: 7,886,085\n",
            "Non-trainable params: 0\n",
            "_________________________________________________________________\n"
          ]
        }
      ]
    },
    {
      "cell_type": "code",
      "source": [
        "evaluate = best_model.evaluate(test_generator)\n",
        "print(evaluate)"
      ],
      "metadata": {
        "id": "qn5OJHZdjTTg",
        "colab": {
          "base_uri": "https://localhost:8080/"
        },
        "outputId": "9777d0ac-fc9f-4413-d3ac-3ac90f7840e1"
      },
      "execution_count": null,
      "outputs": [
        {
          "output_type": "stream",
          "name": "stdout",
          "text": [
            "14/21 [===================>..........] - ETA: 32s - loss: 0.4838 - accuracy: 0.8036"
          ]
        }
      ]
    },
    {
      "cell_type": "markdown",
      "source": [
        "## Save the Model"
      ],
      "metadata": {
        "id": "Etamyd5lYadc"
      }
    },
    {
      "cell_type": "code",
      "source": [
        "best_model.save(\"best_model.h5\")"
      ],
      "metadata": {
        "id": "r2msaB_ddGsc"
      },
      "execution_count": null,
      "outputs": []
    }
  ]
}