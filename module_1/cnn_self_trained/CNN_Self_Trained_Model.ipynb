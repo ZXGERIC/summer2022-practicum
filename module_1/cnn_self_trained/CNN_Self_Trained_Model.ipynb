{
  "nbformat": 4,
  "nbformat_minor": 0,
  "metadata": {
    "colab": {
      "name": "CNN_Self_Trained_Model.ipynb",
      "provenance": [],
      "collapsed_sections": [],
      "toc_visible": true
    },
    "kernelspec": {
      "name": "python3",
      "display_name": "Python 3"
    },
    "language_info": {
      "name": "python"
    }
  },
  "cells": [
    {
      "cell_type": "markdown",
      "source": [
        "Pleaes run preprocess_Data module first before run this module.\n",
        "\n",
        "Author: xzhang867"
      ],
      "metadata": {
        "id": "hxNep-2tgRMj"
      }
    },
    {
      "cell_type": "markdown",
      "source": [
        "## Import Packages"
      ],
      "metadata": {
        "id": "wWYyfm9N1YY0"
      }
    },
    {
      "cell_type": "code",
      "execution_count": 1,
      "metadata": {
        "id": "XHcg5InKi1KR"
      },
      "outputs": [],
      "source": [
        "import pandas as pd\n",
        "\n",
        "from keras.preprocessing.image import ImageDataGenerator\n",
        "from keras.models import Sequential\n",
        "from keras.layers import Conv2D, MaxPooling2D\n",
        "from keras.layers import Activation, Dropout, Flatten, Dense\n",
        "from keras import backend as K\n",
        "\n",
        "from google.colab import drive"
      ]
    },
    {
      "cell_type": "markdown",
      "source": [
        "## Map Google Drive"
      ],
      "metadata": {
        "id": "ggAO2PuU17fr"
      }
    },
    {
      "cell_type": "code",
      "source": [
        "drive.mount('/content/drive')"
      ],
      "metadata": {
        "colab": {
          "base_uri": "https://localhost:8080/"
        },
        "id": "6a9oHzOLsxbc",
        "outputId": "2d805677-ade6-4086-90d1-0e7ae9b67c75"
      },
      "execution_count": 2,
      "outputs": [
        {
          "output_type": "stream",
          "name": "stdout",
          "text": [
            "Mounted at /content/drive\n"
          ]
        }
      ]
    },
    {
      "cell_type": "markdown",
      "source": [
        "## Build CNN Model"
      ],
      "metadata": {
        "id": "z_YzOsA1EC5x"
      }
    },
    {
      "cell_type": "markdown",
      "source": [
        "### Set Common Parameters\n",
        "\n"
      ],
      "metadata": {
        "id": "zPV-t0CK2VB_"
      }
    },
    {
      "cell_type": "code",
      "source": [
        "nb_train_samples =2312\n",
        "nb_validation_samples = 663\n",
        "epochs = 10\n",
        "img_width, img_height = 256, 256\n",
        "batch_size = 16"
      ],
      "metadata": {
        "id": "COPIuzk5jL1t"
      },
      "execution_count": 3,
      "outputs": []
    },
    {
      "cell_type": "markdown",
      "source": [
        "### Generate Training Dataset"
      ],
      "metadata": {
        "id": "dszwTIhr2q7K"
      }
    },
    {
      "cell_type": "code",
      "source": [
        "train_data_dir = '/content/drive/MyDrive/practicum/data_image_classification/train'\n",
        "\n",
        "train_datagen = ImageDataGenerator(\n",
        "\trescale=1. / 255,\n",
        "\tshear_range=0.2,\n",
        "\tzoom_range=0.2,\n",
        "\thorizontal_flip=True)\n",
        "\n",
        "train_generator = train_datagen.flow_from_directory(\n",
        "\ttrain_data_dir,\n",
        "\ttarget_size=(img_width, img_height),\n",
        "\tbatch_size=batch_size,\n",
        "\tclass_mode='categorical')"
      ],
      "metadata": {
        "colab": {
          "base_uri": "https://localhost:8080/"
        },
        "id": "LZZmu4PuEzm5",
        "outputId": "98f5fa24-578d-4b4f-c0fa-f27bbc888f84"
      },
      "execution_count": 4,
      "outputs": [
        {
          "output_type": "stream",
          "name": "stdout",
          "text": [
            "Found 2312 images belonging to 5 classes.\n"
          ]
        }
      ]
    },
    {
      "cell_type": "markdown",
      "source": [
        "### Generate Validation Dataset"
      ],
      "metadata": {
        "id": "Rs2JDw2B3FBY"
      }
    },
    {
      "cell_type": "code",
      "source": [
        "validation_data_dir = '/content/drive/MyDrive/practicum/data_image_classification/validation'\n",
        "\n",
        "validation_datagen = ImageDataGenerator(rescale=1. / 255)\n",
        "\n",
        "validation_generator = validation_datagen.flow_from_directory(\n",
        "\tvalidation_data_dir,\n",
        "\ttarget_size=(img_width, img_height),\n",
        "\tbatch_size=batch_size,\n",
        "\tclass_mode='categorical')"
      ],
      "metadata": {
        "colab": {
          "base_uri": "https://localhost:8080/"
        },
        "id": "BGRD-NYGF7WL",
        "outputId": "eec3a3a4-76de-4bee-981f-32ff6740447a"
      },
      "execution_count": 5,
      "outputs": [
        {
          "output_type": "stream",
          "name": "stdout",
          "text": [
            "Found 663 images belonging to 5 classes.\n"
          ]
        }
      ]
    },
    {
      "cell_type": "markdown",
      "source": [
        "### Generate Test Dataset"
      ],
      "metadata": {
        "id": "U00VfkBcc935"
      }
    },
    {
      "cell_type": "code",
      "source": [
        "test_data_dir = '/content/drive/MyDrive/practicum/data_image_classification/test'\n",
        "\n",
        "test_datagen = ImageDataGenerator(rescale=1. / 255)\n",
        "\n",
        "test_generator = test_datagen.flow_from_directory(\n",
        "\ttest_data_dir,\n",
        "\ttarget_size=(img_width, img_height),\n",
        "\tbatch_size=batch_size,\n",
        "\tclass_mode='categorical')"
      ],
      "metadata": {
        "colab": {
          "base_uri": "https://localhost:8080/"
        },
        "id": "9iz3Vz-pc87p",
        "outputId": "22fbbf19-3ab4-4aa3-9ba9-2286c4939d66"
      },
      "execution_count": 6,
      "outputs": [
        {
          "output_type": "stream",
          "name": "stdout",
          "text": [
            "Found 328 images belonging to 5 classes.\n"
          ]
        }
      ]
    },
    {
      "cell_type": "markdown",
      "source": [
        "### Prepare CNN Model"
      ],
      "metadata": {
        "id": "DtWLIFrh39la"
      }
    },
    {
      "cell_type": "code",
      "source": [
        "if K.image_data_format() == 'channels_first':\n",
        "    input_shape = (3, img_width, img_height)\n",
        "else:\n",
        "    input_shape = (img_width, img_height, 3)\n",
        "\n",
        "# initiate CNN model\n",
        "model = Sequential()\n",
        "model.add(Conv2D(32, (2, 2), input_shape=input_shape))\n",
        "model.add(Activation('relu'))\n",
        "model.add(MaxPooling2D(pool_size=(2, 2)))\n",
        "\n",
        "# add layer\n",
        "model.add(Conv2D(32, (2, 2)))\n",
        "model.add(Activation('relu'))\n",
        "model.add(MaxPooling2D(pool_size=(2, 2)))\n",
        "\n",
        "# add layer\n",
        "model.add(Conv2D(64, (2, 2)))\n",
        "model.add(Activation('relu'))\n",
        "model.add(MaxPooling2D(pool_size=(2, 2)))\n",
        "\n",
        "# add layer\n",
        "model.add(Flatten())\n",
        "model.add(Dense(64))\n",
        "model.add(Activation('relu'))\n",
        "\n",
        "# add dropout to avoid overfitting\n",
        "model.add(Dropout(0.5))\n",
        "\n",
        "# output layer contains 5 neuron\n",
        "model.add(Dense(5))\n",
        "model.add(Activation('softmax'))"
      ],
      "metadata": {
        "id": "nhg4IlDfjPlI"
      },
      "execution_count": 7,
      "outputs": []
    },
    {
      "cell_type": "markdown",
      "source": [
        "### Train the Model"
      ],
      "metadata": {
        "id": "uCb1lkce4HaZ"
      }
    },
    {
      "cell_type": "code",
      "source": [
        "model.compile(loss='categorical_crossentropy',\n",
        "\t\t\toptimizer='rmsprop',\n",
        "\t\t\tmetrics=['accuracy'])"
      ],
      "metadata": {
        "id": "d41GV2MCjRoM"
      },
      "execution_count": 8,
      "outputs": []
    },
    {
      "cell_type": "code",
      "source": [
        "model.fit(\n",
        "\ttrain_generator,\n",
        "\tsteps_per_epoch=nb_train_samples // batch_size,\n",
        "\tepochs=epochs,\n",
        "\tvalidation_data=validation_generator,\n",
        "\tvalidation_steps=nb_validation_samples // batch_size)"
      ],
      "metadata": {
        "colab": {
          "base_uri": "https://localhost:8080/"
        },
        "id": "Z1fb-4evedgj",
        "outputId": "13714476-1be7-4ef7-faba-6496e0a441d4"
      },
      "execution_count": 9,
      "outputs": [
        {
          "output_type": "stream",
          "name": "stdout",
          "text": [
            "Epoch 1/10\n",
            "144/144 [==============================] - 686s 5s/step - loss: 1.4013 - accuracy: 0.4325 - val_loss: 1.0910 - val_accuracy: 0.5930\n",
            "Epoch 2/10\n",
            "144/144 [==============================] - 172s 1s/step - loss: 1.1219 - accuracy: 0.5592 - val_loss: 0.8911 - val_accuracy: 0.6357\n",
            "Epoch 3/10\n",
            "144/144 [==============================] - 172s 1s/step - loss: 0.9853 - accuracy: 0.6189 - val_loss: 0.8208 - val_accuracy: 0.6784\n",
            "Epoch 4/10\n",
            "144/144 [==============================] - 172s 1s/step - loss: 0.9106 - accuracy: 0.6590 - val_loss: 0.6574 - val_accuracy: 0.7607\n",
            "Epoch 5/10\n",
            "144/144 [==============================] - 172s 1s/step - loss: 0.8372 - accuracy: 0.6725 - val_loss: 0.7072 - val_accuracy: 0.7348\n",
            "Epoch 6/10\n",
            "144/144 [==============================] - 172s 1s/step - loss: 0.7996 - accuracy: 0.6929 - val_loss: 0.7338 - val_accuracy: 0.7241\n",
            "Epoch 7/10\n",
            "144/144 [==============================] - 172s 1s/step - loss: 0.7783 - accuracy: 0.7017 - val_loss: 0.7524 - val_accuracy: 0.7119\n",
            "Epoch 8/10\n",
            "144/144 [==============================] - 171s 1s/step - loss: 0.7572 - accuracy: 0.6999 - val_loss: 0.6883 - val_accuracy: 0.7637\n",
            "Epoch 9/10\n",
            "144/144 [==============================] - 171s 1s/step - loss: 0.7689 - accuracy: 0.7017 - val_loss: 0.8162 - val_accuracy: 0.7165\n",
            "Epoch 10/10\n",
            "144/144 [==============================] - 171s 1s/step - loss: 0.7371 - accuracy: 0.7152 - val_loss: 0.7524 - val_accuracy: 0.7622\n"
          ]
        },
        {
          "output_type": "execute_result",
          "data": {
            "text/plain": [
              "<keras.callbacks.History at 0x7f1b50c7e8d0>"
            ]
          },
          "metadata": {},
          "execution_count": 9
        }
      ]
    },
    {
      "cell_type": "markdown",
      "source": [
        "## Evaluate Model (Test Data)"
      ],
      "metadata": {
        "id": "aIgvPHiReh7U"
      }
    },
    {
      "cell_type": "code",
      "source": [
        "evaluate = model.evaluate(test_generator)\n",
        "print(evaluate)"
      ],
      "metadata": {
        "colab": {
          "base_uri": "https://localhost:8080/"
        },
        "id": "qn5OJHZdjTTg",
        "outputId": "0d7642b8-c86e-4da8-fbf2-76bc463a098f"
      },
      "execution_count": 10,
      "outputs": [
        {
          "output_type": "stream",
          "name": "stdout",
          "text": [
            "21/21 [==============================] - 82s 4s/step - loss: 0.6150 - accuracy: 0.7713\n",
            "[0.6150439381599426, 0.7713414430618286]\n"
          ]
        }
      ]
    },
    {
      "cell_type": "markdown",
      "source": [
        "## Save Model"
      ],
      "metadata": {
        "id": "4Yj8LIP9enkW"
      }
    },
    {
      "cell_type": "code",
      "source": [
        "model.save('model_saved.h5')"
      ],
      "metadata": {
        "id": "OzVGQzcXaqBV"
      },
      "execution_count": 11,
      "outputs": []
    }
  ]
}