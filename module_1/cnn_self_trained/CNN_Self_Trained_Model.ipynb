{
  "cells": [
    {
      "cell_type": "markdown",
      "metadata": {
        "id": "hxNep-2tgRMj"
      },
      "source": [
        "Pleaes run preprocess_Data module first before run this module.\n",
        "\n",
        "Author: xzhang867"
      ]
    },
    {
      "cell_type": "markdown",
      "metadata": {
        "id": "-2AcddqL8SRz"
      },
      "source": [
        "## Install Packages"
      ]
    },
    {
      "cell_type": "code",
      "execution_count": null,
      "metadata": {
        "colab": {
          "base_uri": "https://localhost:8080/"
        },
        "id": "lSBwPqi58SgU",
        "outputId": "b24dbe4e-08c0-49b8-a053-a3ec22462d8d"
      },
      "outputs": [
        {
          "name": "stdout",
          "output_type": "stream",
          "text": [
            "Looking in indexes: https://pypi.org/simple, https://us-python.pkg.dev/colab-wheels/public/simple/\n",
            "Requirement already satisfied: visualkeras in /usr/local/lib/python3.7/dist-packages (0.0.2)\n",
            "Requirement already satisfied: pillow>=6.2.0 in /usr/local/lib/python3.7/dist-packages (from visualkeras) (7.1.2)\n",
            "Requirement already satisfied: aggdraw>=1.3.11 in /usr/local/lib/python3.7/dist-packages (from visualkeras) (1.3.15)\n",
            "Requirement already satisfied: numpy>=1.18.1 in /usr/local/lib/python3.7/dist-packages (from visualkeras) (1.21.6)\n",
            "Looking in indexes: https://pypi.org/simple, https://us-python.pkg.dev/colab-wheels/public/simple/\n",
            "Requirement already satisfied: keras_sequential_ascii in /usr/local/lib/python3.7/dist-packages (0.1.1)\n",
            "Requirement already satisfied: keras in /usr/local/lib/python3.7/dist-packages (from keras_sequential_ascii) (2.8.0)\n"
          ]
        }
      ],
      "source": [
        "!pip install visualkeras\n",
        "!pip install keras_sequential_ascii"
      ]
    },
    {
      "cell_type": "markdown",
      "metadata": {
        "id": "wWYyfm9N1YY0"
      },
      "source": [
        "## Import Packages"
      ]
    },
    {
      "cell_type": "code",
      "execution_count": null,
      "metadata": {
        "id": "XHcg5InKi1KR"
      },
      "outputs": [],
      "source": [
        "import pandas as pd\n",
        "import visualkeras\n",
        "\n",
        "from keras.preprocessing.image import ImageDataGenerator\n",
        "from keras.models import Sequential\n",
        "from keras.layers import Conv2D, MaxPooling2D\n",
        "from keras.layers import Activation, Dropout, Flatten, Dense\n",
        "from keras import backend as K\n",
        "\n",
        "from keras_sequential_ascii import keras2ascii\n",
        "\n",
        "from google.colab import drive"
      ]
    },
    {
      "cell_type": "markdown",
      "metadata": {
        "id": "ggAO2PuU17fr"
      },
      "source": [
        "## Map Google Drive"
      ]
    },
    {
      "cell_type": "code",
      "execution_count": null,
      "metadata": {
        "colab": {
          "base_uri": "https://localhost:8080/"
        },
        "id": "6a9oHzOLsxbc",
        "outputId": "1098a26e-7c41-4273-c2ad-b177300f11a0"
      },
      "outputs": [
        {
          "name": "stdout",
          "output_type": "stream",
          "text": [
            "Mounted at /content/drive\n"
          ]
        }
      ],
      "source": [
        "drive.mount('/content/drive')"
      ]
    },
    {
      "cell_type": "markdown",
      "metadata": {
        "id": "z_YzOsA1EC5x"
      },
      "source": [
        "## Build CNN Model"
      ]
    },
    {
      "cell_type": "markdown",
      "metadata": {
        "id": "zPV-t0CK2VB_"
      },
      "source": [
        "### Set Common Parameters\n",
        "\n"
      ]
    },
    {
      "cell_type": "code",
      "execution_count": null,
      "metadata": {
        "id": "COPIuzk5jL1t"
      },
      "outputs": [],
      "source": [
        "nb_train_samples =2312\n",
        "nb_validation_samples = 663\n",
        "epochs = 10\n",
        "img_width, img_height = 256, 256\n",
        "batch_size = 16"
      ]
    },
    {
      "cell_type": "markdown",
      "metadata": {
        "id": "dszwTIhr2q7K"
      },
      "source": [
        "### Generate Training Dataset"
      ]
    },
    {
      "cell_type": "code",
      "execution_count": null,
      "metadata": {
        "colab": {
          "base_uri": "https://localhost:8080/"
        },
        "id": "LZZmu4PuEzm5",
        "outputId": "d0ecad24-a808-4b80-ad14-f57f72ef968e"
      },
      "outputs": [
        {
          "name": "stdout",
          "output_type": "stream",
          "text": [
            "Found 2312 images belonging to 5 classes.\n"
          ]
        }
      ],
      "source": [
        "train_data_dir = '/content/drive/MyDrive/practicum/data_image_classification/train'\n",
        "\n",
        "train_datagen = ImageDataGenerator(\n",
        "\trescale=1. / 255,\n",
        "\tshear_range=0.2,\n",
        "\tzoom_range=0.2,\n",
        "\thorizontal_flip=True)\n",
        "\n",
        "train_generator = train_datagen.flow_from_directory(\n",
        "\ttrain_data_dir,\n",
        "\ttarget_size=(img_width, img_height),\n",
        "\tbatch_size=batch_size,\n",
        "\tclass_mode='categorical')"
      ]
    },
    {
      "cell_type": "markdown",
      "metadata": {
        "id": "Rs2JDw2B3FBY"
      },
      "source": [
        "### Generate Validation Dataset"
      ]
    },
    {
      "cell_type": "code",
      "execution_count": null,
      "metadata": {
        "colab": {
          "base_uri": "https://localhost:8080/"
        },
        "id": "BGRD-NYGF7WL",
        "outputId": "3be53779-d6ee-4605-aef4-2284ecd93c9f"
      },
      "outputs": [
        {
          "name": "stdout",
          "output_type": "stream",
          "text": [
            "Found 663 images belonging to 5 classes.\n"
          ]
        }
      ],
      "source": [
        "validation_data_dir = '/content/drive/MyDrive/practicum/data_image_classification/validation'\n",
        "\n",
        "validation_datagen = ImageDataGenerator(rescale=1. / 255)\n",
        "\n",
        "validation_generator = validation_datagen.flow_from_directory(\n",
        "\tvalidation_data_dir,\n",
        "\ttarget_size=(img_width, img_height),\n",
        "\tbatch_size=batch_size,\n",
        "\tclass_mode='categorical')"
      ]
    },
    {
      "cell_type": "markdown",
      "metadata": {
        "id": "U00VfkBcc935"
      },
      "source": [
        "### Generate Test Dataset"
      ]
    },
    {
      "cell_type": "code",
      "execution_count": null,
      "metadata": {
        "colab": {
          "base_uri": "https://localhost:8080/"
        },
        "id": "9iz3Vz-pc87p",
        "outputId": "d15728d5-a0ab-4ffd-c8df-0d85b137376a"
      },
      "outputs": [
        {
          "name": "stdout",
          "output_type": "stream",
          "text": [
            "Found 328 images belonging to 5 classes.\n"
          ]
        }
      ],
      "source": [
        "test_data_dir = '/content/drive/MyDrive/practicum/data_image_classification/test'\n",
        "\n",
        "test_datagen = ImageDataGenerator(rescale=1. / 255)\n",
        "\n",
        "test_generator = test_datagen.flow_from_directory(\n",
        "\ttest_data_dir,\n",
        "\ttarget_size=(img_width, img_height),\n",
        "\tbatch_size=batch_size,\n",
        "\tclass_mode='categorical')"
      ]
    },
    {
      "cell_type": "markdown",
      "metadata": {
        "id": "DtWLIFrh39la"
      },
      "source": [
        "### Prepare CNN Model"
      ]
    },
    {
      "cell_type": "code",
      "execution_count": null,
      "metadata": {
        "id": "nhg4IlDfjPlI"
      },
      "outputs": [],
      "source": [
        "if K.image_data_format() == 'channels_first':\n",
        "    input_shape = (3, img_width, img_height)\n",
        "else:\n",
        "    input_shape = (img_width, img_height, 3)\n",
        "\n",
        "# initiate CNN model\n",
        "model = Sequential()\n",
        "model.add(Conv2D(32, (2, 2), input_shape=input_shape))\n",
        "model.add(Activation('relu'))\n",
        "model.add(MaxPooling2D(pool_size=(2, 2)))\n",
        "\n",
        "# add layer\n",
        "model.add(Conv2D(32, (2, 2)))\n",
        "model.add(Activation('relu'))\n",
        "model.add(MaxPooling2D(pool_size=(2, 2)))\n",
        "\n",
        "# add layer\n",
        "model.add(Conv2D(64, (2, 2)))\n",
        "model.add(Activation('relu'))\n",
        "model.add(MaxPooling2D(pool_size=(2, 2)))\n",
        "\n",
        "# add layer\n",
        "model.add(Flatten())\n",
        "model.add(Dense(128))\n",
        "model.add(Activation('relu'))\n",
        "\n",
        "# add dropout to avoid overfitting\n",
        "model.add(Dropout(0.5))\n",
        "\n",
        "# output layer contains 5 neuron\n",
        "model.add(Dense(5))\n",
        "model.add(Activation('softmax'))"
      ]
    },
    {
      "cell_type": "markdown",
      "metadata": {
        "id": "uCb1lkce4HaZ"
      },
      "source": [
        "### Train the Model"
      ]
    },
    {
      "cell_type": "code",
      "execution_count": null,
      "metadata": {
        "id": "d41GV2MCjRoM"
      },
      "outputs": [],
      "source": [
        "model.compile(loss='categorical_crossentropy',\n",
        "\t\t\toptimizer='rmsprop',\n",
        "\t\t\tmetrics=['accuracy'])"
      ]
    },
    {
      "cell_type": "code",
      "execution_count": null,
      "metadata": {
        "colab": {
          "background_save": true,
          "base_uri": "https://localhost:8080/"
        },
        "id": "Z1fb-4evedgj",
        "outputId": "651c1a64-42a2-448a-ff02-c3421cce6e7d"
      },
      "outputs": [
        {
          "name": "stdout",
          "output_type": "stream",
          "text": [
            "Epoch 1/10\n",
            "144/144 [==============================] - 1436s 10s/step - loss: 1.7033 - accuracy: 0.4608 - val_loss: 1.0861 - val_accuracy: 0.6418\n",
            "Epoch 2/10\n",
            "144/144 [==============================] - 136s 942ms/step - loss: 1.0513 - accuracy: 0.6019 - val_loss: 0.7950 - val_accuracy: 0.6890\n",
            "Epoch 3/10\n",
            "144/144 [==============================] - 132s 918ms/step - loss: 0.9000 - accuracy: 0.6773 - val_loss: 0.7462 - val_accuracy: 0.7210\n",
            "Epoch 4/10\n",
            "144/144 [==============================] - 132s 918ms/step - loss: 0.7965 - accuracy: 0.7030 - val_loss: 0.6684 - val_accuracy: 0.7576\n",
            "Epoch 5/10\n",
            "144/144 [==============================] - 135s 933ms/step - loss: 0.7601 - accuracy: 0.7104 - val_loss: 0.7607 - val_accuracy: 0.7348\n",
            "Epoch 6/10\n",
            "144/144 [==============================] - 133s 921ms/step - loss: 0.7083 - accuracy: 0.7330 - val_loss: 0.6473 - val_accuracy: 0.7576\n",
            "Epoch 7/10\n",
            "144/144 [==============================] - 132s 912ms/step - loss: 0.6850 - accuracy: 0.7483 - val_loss: 0.7387 - val_accuracy: 0.7454\n",
            "Epoch 8/10\n",
            "144/144 [==============================] - 132s 916ms/step - loss: 0.6459 - accuracy: 0.7570 - val_loss: 0.6329 - val_accuracy: 0.7561\n",
            "Epoch 9/10\n",
            "144/144 [==============================] - 134s 929ms/step - loss: 0.6129 - accuracy: 0.7696 - val_loss: 0.6837 - val_accuracy: 0.7683\n",
            "Epoch 10/10\n",
            "144/144 [==============================] - 138s 946ms/step - loss: 0.6221 - accuracy: 0.7652 - val_loss: 0.8078 - val_accuracy: 0.7485\n"
          ]
        },
        {
          "data": {
            "text/plain": [
              "<keras.callbacks.History at 0x7fe0f1be8050>"
            ]
          },
          "execution_count": null,
          "metadata": {},
          "output_type": "execute_result"
        }
      ],
      "source": [
        "model.fit(\n",
        "\ttrain_generator,\n",
        "\tsteps_per_epoch=nb_train_samples // batch_size,\n",
        "\tepochs=epochs,\n",
        "\tvalidation_data=validation_generator,\n",
        "\tvalidation_steps=nb_validation_samples // batch_size)"
      ]
    },
    {
      "cell_type": "markdown",
      "metadata": {
        "id": "aIgvPHiReh7U"
      },
      "source": [
        "## Evaluate Model (Test Data)"
      ]
    },
    {
      "cell_type": "code",
      "execution_count": null,
      "metadata": {
        "colab": {
          "background_save": true
        },
        "id": "qn5OJHZdjTTg",
        "outputId": "f0eb783b-9d6a-4cc2-a9bb-6f20161ae7c4"
      },
      "outputs": [
        {
          "name": "stdout",
          "output_type": "stream",
          "text": [
            "21/21 [==============================] - 167s 8s/step - loss: 0.6453 - accuracy: 0.7409\n",
            "[0.645302414894104, 0.7408536672592163]\n"
          ]
        }
      ],
      "source": [
        "evaluate = model.evaluate(test_generator)\n",
        "print(evaluate)"
      ]
    },
    {
      "cell_type": "markdown",
      "metadata": {
        "id": "4Yj8LIP9enkW"
      },
      "source": [
        "## Save Model"
      ]
    },
    {
      "cell_type": "code",
      "execution_count": null,
      "metadata": {
        "colab": {
          "background_save": true
        },
        "id": "OzVGQzcXaqBV"
      },
      "outputs": [],
      "source": [
        "model.save('model_saved.h5')"
      ]
    },
    {
      "cell_type": "markdown",
      "metadata": {
        "id": "VIifg98q9MjF"
      },
      "source": [
        "## Visualize the Model"
      ]
    },
    {
      "cell_type": "code",
      "execution_count": null,
      "metadata": {
        "colab": {
          "background_save": true
        },
        "id": "CMAjQsPg9LZr"
      },
      "outputs": [],
      "source": [
        "visualkeras.layered_view(model, to_file='model_output.png').show()"
      ]
    },
    {
      "cell_type": "code",
      "execution_count": null,
      "metadata": {
        "colab": {
          "background_save": true
        },
        "id": "cdYO2Hs-9cT_",
        "outputId": "a5ca716d-22c6-4a77-83f5-d8638ccfcd96"
      },
      "outputs": [
        {
          "name": "stdout",
          "output_type": "stream",
          "text": [
            "           OPERATION           DATA DIMENSIONS   WEIGHTS(N)   WEIGHTS(%)\n",
            "\n",
            "               Input   #####    256  256    3\n",
            "              Conv2D    \\|/  -------------------       416     0.0%\n",
            "                relu   #####    255  255   32\n",
            "        MaxPooling2D   Y max -------------------         0     0.0%\n",
            "                       #####    127  127   32\n",
            "              Conv2D    \\|/  -------------------      4128     0.1%\n",
            "                relu   #####    126  126   32\n",
            "        MaxPooling2D   Y max -------------------         0     0.0%\n",
            "                       #####     63   63   32\n",
            "              Conv2D    \\|/  -------------------      8256     0.1%\n",
            "                relu   #####     62   62   64\n",
            "        MaxPooling2D   Y max -------------------         0     0.0%\n",
            "                       #####     31   31   64\n",
            "             Flatten   ||||| -------------------         0     0.0%\n",
            "                       #####       61504\n",
            "               Dense   XXXXX -------------------   7872640    99.8%\n",
            "                relu   #####         128\n",
            "             Dropout    | || -------------------         0     0.0%\n",
            "                       #####         128\n",
            "               Dense   XXXXX -------------------       645     0.0%\n",
            "             softmax   #####           5\n"
          ]
        }
      ],
      "source": [
        "keras2ascii(model)"
      ]
    }
  ],
  "metadata": {
    "colab": {
      "collapsed_sections": [],
      "name": "CNN_Self_Trained_Model.ipynb",
      "provenance": []
    },
    "kernelspec": {
      "display_name": "Python 3",
      "name": "python3"
    },
    "language_info": {
      "name": "python"
    }
  },
  "nbformat": 4,
  "nbformat_minor": 0
}