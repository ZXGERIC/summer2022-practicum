{
  "nbformat": 4,
  "nbformat_minor": 0,
  "metadata": {
    "colab": {
      "name": "Preprocess_Data.ipynb",
      "provenance": [],
      "collapsed_sections": [],
      "toc_visible": true
    },
    "kernelspec": {
      "name": "python3",
      "display_name": "Python 3"
    },
    "language_info": {
      "name": "python"
    }
  },
  "cells": [
    {
      "cell_type": "markdown",
      "source": [
        "Note that the following code runs in Google Colab. Prerequisites to run the code\n",
        "\n",
        "\n",
        "*   Upload data_image_classification.zip to Google Drive\n",
        "*   Authorize Google Colab to access Google Drive\n",
        "\n",
        "Author: xzhang867\n"
      ],
      "metadata": {
        "id": "wnyqgWQXkobB"
      }
    },
    {
      "cell_type": "markdown",
      "source": [
        "## Import Packages"
      ],
      "metadata": {
        "id": "9vnpIZJ9kJai"
      }
    },
    {
      "cell_type": "code",
      "execution_count": null,
      "metadata": {
        "id": "oqZSCYXsj0DZ"
      },
      "outputs": [],
      "source": [
        "import shutil\n",
        "import cv2\n",
        "import pandas as pd\n",
        "import tensorflow as tf\n",
        "import PIL\n",
        "\n",
        "from sklearn.model_selection import train_test_split\n",
        "from google.colab import drive\n",
        "from IPython.display import Image, display"
      ]
    },
    {
      "cell_type": "markdown",
      "source": [
        "## Map Google Drive"
      ],
      "metadata": {
        "id": "TtcRTkhvkRE-"
      }
    },
    {
      "cell_type": "code",
      "source": [
        "drive.mount('/content/drive')"
      ],
      "metadata": {
        "colab": {
          "base_uri": "https://localhost:8080/"
        },
        "id": "qPEr0hcSkIis",
        "outputId": "c662b83c-3d84-479a-e2a9-fe6f45ce981e"
      },
      "execution_count": null,
      "outputs": [
        {
          "output_type": "stream",
          "name": "stdout",
          "text": [
            "Mounted at /content/drive\n"
          ]
        }
      ]
    },
    {
      "cell_type": "markdown",
      "source": [
        "## Unzip Image Data"
      ],
      "metadata": {
        "id": "uRApQW2ykbqW"
      }
    },
    {
      "cell_type": "code",
      "source": [
        "!unzip -u \"/content/drive/MyDrive/practicum/data_image_classification.zip\" -d \"/content/drive/MyDrive/practicum/\" > data_image_classification.txt"
      ],
      "metadata": {
        "id": "JlBzrVs7kIos"
      },
      "execution_count": null,
      "outputs": []
    },
    {
      "cell_type": "markdown",
      "source": [
        "## Data Transformation"
      ],
      "metadata": {
        "id": "bE8a-QUjlFFt"
      }
    },
    {
      "cell_type": "markdown",
      "source": [
        "### Get Image File Paths"
      ],
      "metadata": {
        "id": "aD3r_canlk6_"
      }
    },
    {
      "cell_type": "code",
      "source": [
        "# get a list of image paths from /content/drive/MyDrive/practicum/data_image_classification/data\n",
        "import os\n",
        "file_list = []\n",
        "for root, _, filenames in os.walk(\"/content/drive/MyDrive/practicum/data_image_classification/data\"):\n",
        "  for filename in filenames:\n",
        "    file_list.append([filename, os.path.join(root, filename)])\n",
        "\n",
        "df_file = pd.DataFrame(file_list, columns = [\"filename\", \"filepath\"])\n",
        "\n",
        "# show the first 5 rows\n",
        "df_file.head()"
      ],
      "metadata": {
        "colab": {
          "base_uri": "https://localhost:8080/",
          "height": 206
        },
        "id": "n4pyvJGokIrs",
        "outputId": "ed69fc7b-456c-41ed-9326-46eb7968a902"
      },
      "execution_count": null,
      "outputs": [
        {
          "output_type": "execute_result",
          "data": {
            "text/plain": [
              "                                            filename  \\\n",
              "0  image-pre-inspection-photo-ce47fce3-174b-4e99-...   \n",
              "1  image-pre-inspection-photo-7fe9fc25-d9ec-4de3-...   \n",
              "2  image-post-inspection-photo-38ac2393-ee95-45d6...   \n",
              "3  image-pre-inspection-photo-ba662eb7-d7ac-4ac4-...   \n",
              "4  image-post-inspection-photo-72bd12a7-2412-4eaa...   \n",
              "\n",
              "                                            filepath  \n",
              "0  /content/drive/MyDrive/practicum/data_image_cl...  \n",
              "1  /content/drive/MyDrive/practicum/data_image_cl...  \n",
              "2  /content/drive/MyDrive/practicum/data_image_cl...  \n",
              "3  /content/drive/MyDrive/practicum/data_image_cl...  \n",
              "4  /content/drive/MyDrive/practicum/data_image_cl...  "
            ],
            "text/html": [
              "\n",
              "  <div id=\"df-66ec5200-97e2-4a11-a320-d9024db1df66\">\n",
              "    <div class=\"colab-df-container\">\n",
              "      <div>\n",
              "<style scoped>\n",
              "    .dataframe tbody tr th:only-of-type {\n",
              "        vertical-align: middle;\n",
              "    }\n",
              "\n",
              "    .dataframe tbody tr th {\n",
              "        vertical-align: top;\n",
              "    }\n",
              "\n",
              "    .dataframe thead th {\n",
              "        text-align: right;\n",
              "    }\n",
              "</style>\n",
              "<table border=\"1\" class=\"dataframe\">\n",
              "  <thead>\n",
              "    <tr style=\"text-align: right;\">\n",
              "      <th></th>\n",
              "      <th>filename</th>\n",
              "      <th>filepath</th>\n",
              "    </tr>\n",
              "  </thead>\n",
              "  <tbody>\n",
              "    <tr>\n",
              "      <th>0</th>\n",
              "      <td>image-pre-inspection-photo-ce47fce3-174b-4e99-...</td>\n",
              "      <td>/content/drive/MyDrive/practicum/data_image_cl...</td>\n",
              "    </tr>\n",
              "    <tr>\n",
              "      <th>1</th>\n",
              "      <td>image-pre-inspection-photo-7fe9fc25-d9ec-4de3-...</td>\n",
              "      <td>/content/drive/MyDrive/practicum/data_image_cl...</td>\n",
              "    </tr>\n",
              "    <tr>\n",
              "      <th>2</th>\n",
              "      <td>image-post-inspection-photo-38ac2393-ee95-45d6...</td>\n",
              "      <td>/content/drive/MyDrive/practicum/data_image_cl...</td>\n",
              "    </tr>\n",
              "    <tr>\n",
              "      <th>3</th>\n",
              "      <td>image-pre-inspection-photo-ba662eb7-d7ac-4ac4-...</td>\n",
              "      <td>/content/drive/MyDrive/practicum/data_image_cl...</td>\n",
              "    </tr>\n",
              "    <tr>\n",
              "      <th>4</th>\n",
              "      <td>image-post-inspection-photo-72bd12a7-2412-4eaa...</td>\n",
              "      <td>/content/drive/MyDrive/practicum/data_image_cl...</td>\n",
              "    </tr>\n",
              "  </tbody>\n",
              "</table>\n",
              "</div>\n",
              "      <button class=\"colab-df-convert\" onclick=\"convertToInteractive('df-66ec5200-97e2-4a11-a320-d9024db1df66')\"\n",
              "              title=\"Convert this dataframe to an interactive table.\"\n",
              "              style=\"display:none;\">\n",
              "        \n",
              "  <svg xmlns=\"http://www.w3.org/2000/svg\" height=\"24px\"viewBox=\"0 0 24 24\"\n",
              "       width=\"24px\">\n",
              "    <path d=\"M0 0h24v24H0V0z\" fill=\"none\"/>\n",
              "    <path d=\"M18.56 5.44l.94 2.06.94-2.06 2.06-.94-2.06-.94-.94-2.06-.94 2.06-2.06.94zm-11 1L8.5 8.5l.94-2.06 2.06-.94-2.06-.94L8.5 2.5l-.94 2.06-2.06.94zm10 10l.94 2.06.94-2.06 2.06-.94-2.06-.94-.94-2.06-.94 2.06-2.06.94z\"/><path d=\"M17.41 7.96l-1.37-1.37c-.4-.4-.92-.59-1.43-.59-.52 0-1.04.2-1.43.59L10.3 9.45l-7.72 7.72c-.78.78-.78 2.05 0 2.83L4 21.41c.39.39.9.59 1.41.59.51 0 1.02-.2 1.41-.59l7.78-7.78 2.81-2.81c.8-.78.8-2.07 0-2.86zM5.41 20L4 18.59l7.72-7.72 1.47 1.35L5.41 20z\"/>\n",
              "  </svg>\n",
              "      </button>\n",
              "      \n",
              "  <style>\n",
              "    .colab-df-container {\n",
              "      display:flex;\n",
              "      flex-wrap:wrap;\n",
              "      gap: 12px;\n",
              "    }\n",
              "\n",
              "    .colab-df-convert {\n",
              "      background-color: #E8F0FE;\n",
              "      border: none;\n",
              "      border-radius: 50%;\n",
              "      cursor: pointer;\n",
              "      display: none;\n",
              "      fill: #1967D2;\n",
              "      height: 32px;\n",
              "      padding: 0 0 0 0;\n",
              "      width: 32px;\n",
              "    }\n",
              "\n",
              "    .colab-df-convert:hover {\n",
              "      background-color: #E2EBFA;\n",
              "      box-shadow: 0px 1px 2px rgba(60, 64, 67, 0.3), 0px 1px 3px 1px rgba(60, 64, 67, 0.15);\n",
              "      fill: #174EA6;\n",
              "    }\n",
              "\n",
              "    [theme=dark] .colab-df-convert {\n",
              "      background-color: #3B4455;\n",
              "      fill: #D2E3FC;\n",
              "    }\n",
              "\n",
              "    [theme=dark] .colab-df-convert:hover {\n",
              "      background-color: #434B5C;\n",
              "      box-shadow: 0px 1px 3px 1px rgba(0, 0, 0, 0.15);\n",
              "      filter: drop-shadow(0px 1px 2px rgba(0, 0, 0, 0.3));\n",
              "      fill: #FFFFFF;\n",
              "    }\n",
              "  </style>\n",
              "\n",
              "      <script>\n",
              "        const buttonEl =\n",
              "          document.querySelector('#df-66ec5200-97e2-4a11-a320-d9024db1df66 button.colab-df-convert');\n",
              "        buttonEl.style.display =\n",
              "          google.colab.kernel.accessAllowed ? 'block' : 'none';\n",
              "\n",
              "        async function convertToInteractive(key) {\n",
              "          const element = document.querySelector('#df-66ec5200-97e2-4a11-a320-d9024db1df66');\n",
              "          const dataTable =\n",
              "            await google.colab.kernel.invokeFunction('convertToInteractive',\n",
              "                                                     [key], {});\n",
              "          if (!dataTable) return;\n",
              "\n",
              "          const docLinkHtml = 'Like what you see? Visit the ' +\n",
              "            '<a target=\"_blank\" href=https://colab.research.google.com/notebooks/data_table.ipynb>data table notebook</a>'\n",
              "            + ' to learn more about interactive tables.';\n",
              "          element.innerHTML = '';\n",
              "          dataTable['output_type'] = 'display_data';\n",
              "          await google.colab.output.renderOutput(dataTable, element);\n",
              "          const docLink = document.createElement('div');\n",
              "          docLink.innerHTML = docLinkHtml;\n",
              "          element.appendChild(docLink);\n",
              "        }\n",
              "      </script>\n",
              "    </div>\n",
              "  </div>\n",
              "  "
            ]
          },
          "metadata": {},
          "execution_count": 4
        }
      ]
    },
    {
      "cell_type": "markdown",
      "source": [
        "### Read in Metadata File"
      ],
      "metadata": {
        "id": "FbUeftNElySe"
      }
    },
    {
      "cell_type": "code",
      "source": [
        "# read in metadata file\n",
        "df_metadata = pd.read_csv(\"/content/drive/MyDrive/practicum/data_image_classification/classification_dataset_annotations.xlsx - Sheet1.csv\")\n",
        "\n",
        "# clean split column to have correct filename\n",
        "def get_filename(s):\n",
        "  result = s.split(\",\")[-1]\n",
        "  return result[2:-2].strip()\n",
        "\n",
        "df_metadata[\"filename\"] = df_metadata[\"split\"].apply(get_filename)\n"
      ],
      "metadata": {
        "id": "Aui6nqCWkIuS"
      },
      "execution_count": null,
      "outputs": []
    },
    {
      "cell_type": "markdown",
      "source": [
        "### Merge File Path Data and Metadata"
      ],
      "metadata": {
        "id": "GLoT0Vfwmqs_"
      }
    },
    {
      "cell_type": "code",
      "source": [
        "# merge df_file into df_metadata\n",
        "df_metadata[\"filepath\"] = df_metadata[\"filename\"].map(dict(zip(df_file.filename, df_file.filepath)))\n",
        "\n",
        "# select needed column\n",
        "df_metadata = df_metadata[[\"filename\", \"filepath\", \"label\"]]\n",
        "\n",
        "# show the first 5 rows\n",
        "df_metadata.head()"
      ],
      "metadata": {
        "colab": {
          "base_uri": "https://localhost:8080/",
          "height": 206
        },
        "id": "RGHaGBTdkIxD",
        "outputId": "5f38b8e7-598c-424e-bc66-be4bde8703f5"
      },
      "execution_count": null,
      "outputs": [
        {
          "output_type": "execute_result",
          "data": {
            "text/plain": [
              "                                            filename  \\\n",
              "0  image-pre-inspection-photo-ce47fce3-174b-4e99-...   \n",
              "1  image-post-inspection-photo-38ac2393-ee95-45d6...   \n",
              "2  image-pre-inspection-photo-7fe9fc25-d9ec-4de3-...   \n",
              "3  image-post-inspection-photo-72bd12a7-2412-4eaa...   \n",
              "4  image-pre-inspection-photo-ba662eb7-d7ac-4ac4-...   \n",
              "\n",
              "                                            filepath  label  \n",
              "0  /content/drive/MyDrive/practicum/data_image_cl...  dryer  \n",
              "1  /content/drive/MyDrive/practicum/data_image_cl...  dryer  \n",
              "2  /content/drive/MyDrive/practicum/data_image_cl...  dryer  \n",
              "3  /content/drive/MyDrive/practicum/data_image_cl...  dryer  \n",
              "4  /content/drive/MyDrive/practicum/data_image_cl...  dryer  "
            ],
            "text/html": [
              "\n",
              "  <div id=\"df-f6e581c0-5a9b-4b0a-9c17-f24083895546\">\n",
              "    <div class=\"colab-df-container\">\n",
              "      <div>\n",
              "<style scoped>\n",
              "    .dataframe tbody tr th:only-of-type {\n",
              "        vertical-align: middle;\n",
              "    }\n",
              "\n",
              "    .dataframe tbody tr th {\n",
              "        vertical-align: top;\n",
              "    }\n",
              "\n",
              "    .dataframe thead th {\n",
              "        text-align: right;\n",
              "    }\n",
              "</style>\n",
              "<table border=\"1\" class=\"dataframe\">\n",
              "  <thead>\n",
              "    <tr style=\"text-align: right;\">\n",
              "      <th></th>\n",
              "      <th>filename</th>\n",
              "      <th>filepath</th>\n",
              "      <th>label</th>\n",
              "    </tr>\n",
              "  </thead>\n",
              "  <tbody>\n",
              "    <tr>\n",
              "      <th>0</th>\n",
              "      <td>image-pre-inspection-photo-ce47fce3-174b-4e99-...</td>\n",
              "      <td>/content/drive/MyDrive/practicum/data_image_cl...</td>\n",
              "      <td>dryer</td>\n",
              "    </tr>\n",
              "    <tr>\n",
              "      <th>1</th>\n",
              "      <td>image-post-inspection-photo-38ac2393-ee95-45d6...</td>\n",
              "      <td>/content/drive/MyDrive/practicum/data_image_cl...</td>\n",
              "      <td>dryer</td>\n",
              "    </tr>\n",
              "    <tr>\n",
              "      <th>2</th>\n",
              "      <td>image-pre-inspection-photo-7fe9fc25-d9ec-4de3-...</td>\n",
              "      <td>/content/drive/MyDrive/practicum/data_image_cl...</td>\n",
              "      <td>dryer</td>\n",
              "    </tr>\n",
              "    <tr>\n",
              "      <th>3</th>\n",
              "      <td>image-post-inspection-photo-72bd12a7-2412-4eaa...</td>\n",
              "      <td>/content/drive/MyDrive/practicum/data_image_cl...</td>\n",
              "      <td>dryer</td>\n",
              "    </tr>\n",
              "    <tr>\n",
              "      <th>4</th>\n",
              "      <td>image-pre-inspection-photo-ba662eb7-d7ac-4ac4-...</td>\n",
              "      <td>/content/drive/MyDrive/practicum/data_image_cl...</td>\n",
              "      <td>dryer</td>\n",
              "    </tr>\n",
              "  </tbody>\n",
              "</table>\n",
              "</div>\n",
              "      <button class=\"colab-df-convert\" onclick=\"convertToInteractive('df-f6e581c0-5a9b-4b0a-9c17-f24083895546')\"\n",
              "              title=\"Convert this dataframe to an interactive table.\"\n",
              "              style=\"display:none;\">\n",
              "        \n",
              "  <svg xmlns=\"http://www.w3.org/2000/svg\" height=\"24px\"viewBox=\"0 0 24 24\"\n",
              "       width=\"24px\">\n",
              "    <path d=\"M0 0h24v24H0V0z\" fill=\"none\"/>\n",
              "    <path d=\"M18.56 5.44l.94 2.06.94-2.06 2.06-.94-2.06-.94-.94-2.06-.94 2.06-2.06.94zm-11 1L8.5 8.5l.94-2.06 2.06-.94-2.06-.94L8.5 2.5l-.94 2.06-2.06.94zm10 10l.94 2.06.94-2.06 2.06-.94-2.06-.94-.94-2.06-.94 2.06-2.06.94z\"/><path d=\"M17.41 7.96l-1.37-1.37c-.4-.4-.92-.59-1.43-.59-.52 0-1.04.2-1.43.59L10.3 9.45l-7.72 7.72c-.78.78-.78 2.05 0 2.83L4 21.41c.39.39.9.59 1.41.59.51 0 1.02-.2 1.41-.59l7.78-7.78 2.81-2.81c.8-.78.8-2.07 0-2.86zM5.41 20L4 18.59l7.72-7.72 1.47 1.35L5.41 20z\"/>\n",
              "  </svg>\n",
              "      </button>\n",
              "      \n",
              "  <style>\n",
              "    .colab-df-container {\n",
              "      display:flex;\n",
              "      flex-wrap:wrap;\n",
              "      gap: 12px;\n",
              "    }\n",
              "\n",
              "    .colab-df-convert {\n",
              "      background-color: #E8F0FE;\n",
              "      border: none;\n",
              "      border-radius: 50%;\n",
              "      cursor: pointer;\n",
              "      display: none;\n",
              "      fill: #1967D2;\n",
              "      height: 32px;\n",
              "      padding: 0 0 0 0;\n",
              "      width: 32px;\n",
              "    }\n",
              "\n",
              "    .colab-df-convert:hover {\n",
              "      background-color: #E2EBFA;\n",
              "      box-shadow: 0px 1px 2px rgba(60, 64, 67, 0.3), 0px 1px 3px 1px rgba(60, 64, 67, 0.15);\n",
              "      fill: #174EA6;\n",
              "    }\n",
              "\n",
              "    [theme=dark] .colab-df-convert {\n",
              "      background-color: #3B4455;\n",
              "      fill: #D2E3FC;\n",
              "    }\n",
              "\n",
              "    [theme=dark] .colab-df-convert:hover {\n",
              "      background-color: #434B5C;\n",
              "      box-shadow: 0px 1px 3px 1px rgba(0, 0, 0, 0.15);\n",
              "      filter: drop-shadow(0px 1px 2px rgba(0, 0, 0, 0.3));\n",
              "      fill: #FFFFFF;\n",
              "    }\n",
              "  </style>\n",
              "\n",
              "      <script>\n",
              "        const buttonEl =\n",
              "          document.querySelector('#df-f6e581c0-5a9b-4b0a-9c17-f24083895546 button.colab-df-convert');\n",
              "        buttonEl.style.display =\n",
              "          google.colab.kernel.accessAllowed ? 'block' : 'none';\n",
              "\n",
              "        async function convertToInteractive(key) {\n",
              "          const element = document.querySelector('#df-f6e581c0-5a9b-4b0a-9c17-f24083895546');\n",
              "          const dataTable =\n",
              "            await google.colab.kernel.invokeFunction('convertToInteractive',\n",
              "                                                     [key], {});\n",
              "          if (!dataTable) return;\n",
              "\n",
              "          const docLinkHtml = 'Like what you see? Visit the ' +\n",
              "            '<a target=\"_blank\" href=https://colab.research.google.com/notebooks/data_table.ipynb>data table notebook</a>'\n",
              "            + ' to learn more about interactive tables.';\n",
              "          element.innerHTML = '';\n",
              "          dataTable['output_type'] = 'display_data';\n",
              "          await google.colab.output.renderOutput(dataTable, element);\n",
              "          const docLink = document.createElement('div');\n",
              "          docLink.innerHTML = docLinkHtml;\n",
              "          element.appendChild(docLink);\n",
              "        }\n",
              "      </script>\n",
              "    </div>\n",
              "  </div>\n",
              "  "
            ]
          },
          "metadata": {},
          "execution_count": 7
        }
      ]
    },
    {
      "cell_type": "code",
      "source": [
        "# show those images with short filename\n",
        "df_metadata[\"filename_len\"] = df_metadata.filename.apply(lambda x: len(x))\n",
        "df_metadata[\"filename_len\"].value_counts()"
      ],
      "metadata": {
        "colab": {
          "base_uri": "https://localhost:8080/"
        },
        "id": "pTUxgS0Fqaj6",
        "outputId": "4729c192-0d05-4c6f-ba30-81567e2a6668"
      },
      "execution_count": null,
      "outputs": [
        {
          "output_type": "execute_result",
          "data": {
            "text/plain": [
              "104    1865\n",
              "105    1081\n",
              "95      136\n",
              "78      114\n",
              "116      80\n",
              "112      22\n",
              "71        3\n",
              "19        2\n",
              "60        1\n",
              "18        1\n",
              "111       1\n",
              "Name: filename_len, dtype: int64"
            ]
          },
          "metadata": {},
          "execution_count": 19
        }
      ]
    },
    {
      "cell_type": "markdown",
      "source": [
        "### Manually Review Images"
      ],
      "metadata": {
        "id": "TjD2I_gDq9kU"
      }
    },
    {
      "cell_type": "code",
      "source": [
        "for imageName in df_metadata.loc[df_metadata.filename_len <= 18, \"filepath\"]:\n",
        "  print(imageName)\n",
        "  display(Image(filename=imageName))\n"
      ],
      "metadata": {
        "colab": {
          "base_uri": "https://localhost:8080/",
          "height": 433
        },
        "id": "d_DKdxiqr7J2",
        "outputId": "305f94a1-e7cd-4ae4-eadf-f178a9d7c4fd"
      },
      "execution_count": null,
      "outputs": [
        {
          "output_type": "stream",
          "name": "stdout",
          "text": [
            "/content/drive/MyDrive/practicum/data_image_classification/data/Laundry/SJ48484064/David Garofalo.png\n"
          ]
        },
        {
          "output_type": "display_data",
          "data": {
            "text/plain": [
              "<IPython.core.display.Image object>"
            ],
            "image/png": "[encoded data removed]"
          },
          "metadata": {}
        }
      ]
    },
    {
      "cell_type": "code",
      "source": [
        "# find out and show the \n",
        "for imageName in df_metadata.loc[df_metadata.filename.str.contains(\"signature\"), \"filepath\"]:\n",
        "  print(imageName)\n",
        "  display(Image(filename=imageName))\n"
      ],
      "metadata": {
        "colab": {
          "base_uri": "https://localhost:8080/",
          "height": 669
        },
        "id": "BPu_HWBftENR",
        "outputId": "396f6ae5-f4d6-4ab8-8987-850b0f7b471d"
      },
      "execution_count": null,
      "outputs": [
        {
          "output_type": "stream",
          "name": "stdout",
          "text": [
            "/content/drive/MyDrive/practicum/data_image_classification/data/SJ48173895/signature-next-steps-signature_c11ab8f2-b575-4b56-9901-2feae72382a2.png\n"
          ]
        },
        {
          "output_type": "display_data",
          "data": {
            "text/plain": [
              "<IPython.core.display.Image object>"
            ],
            "image/png": "[encoded data removed]"
          },
          "metadata": {}
        },
        {
          "output_type": "stream",
          "name": "stdout",
          "text": [
            "/content/drive/MyDrive/practicum/data_image_classification/data/SJ48309649/signature-next-steps-signature_32d5e8a7-c1e3-4f54-ac7f-9959a002d016.png\n"
          ]
        },
        {
          "output_type": "display_data",
          "data": {
            "text/plain": [
              "<IPython.core.display.Image object>"
            ],
            "image/png": "[encoded data removed]"
          },
          "metadata": {}
        },
        {
          "output_type": "stream",
          "name": "stdout",
          "text": [
            "/content/drive/MyDrive/practicum/data_image_classification/data/SJ48476945/signature-next-steps-signature_e1347dd4-bdf5-44a5-8c73-a10673da8c87.png\n"
          ]
        },
        {
          "output_type": "display_data",
          "data": {
            "text/plain": [
              "<IPython.core.display.Image object>"
            ],
            "image/png": "[encoded data removed]"
          },
          "metadata": {}
        }
      ]
    },
    {
      "cell_type": "markdown",
      "source": [
        "### Remove Suspicious Images"
      ],
      "metadata": {
        "id": "WjRxrkh-t7ec"
      }
    },
    {
      "cell_type": "code",
      "source": [
        "# identify image containing keyword 'signature' \n",
        "condition_a = ~df_metadata.filename.str.contains(\"signature\")\n",
        "\n",
        "# identify short image name\n",
        "condition_b = ~df_metadata.filename_len <= 18\n",
        "\n",
        "# remove those suspicious records\n",
        "df_metadata = df_metadata.loc[condition_a & condition_b]\n",
        "\n",
        "# reset index\n",
        "df_metadata.reset_index(drop=True, inplace=True)\n",
        "\n",
        "# show the first 5 records\n",
        "df_metadata.head()"
      ],
      "metadata": {
        "colab": {
          "base_uri": "https://localhost:8080/",
          "height": 206
        },
        "id": "U57Pecbpt7DX",
        "outputId": "bc522dab-cdfa-43a2-bc8c-2b07b0aeb8da"
      },
      "execution_count": null,
      "outputs": [
        {
          "output_type": "execute_result",
          "data": {
            "text/plain": [
              "                                            filename  \\\n",
              "0  image-pre-inspection-photo-ce47fce3-174b-4e99-...   \n",
              "1  image-post-inspection-photo-38ac2393-ee95-45d6...   \n",
              "2  image-pre-inspection-photo-7fe9fc25-d9ec-4de3-...   \n",
              "3  image-post-inspection-photo-72bd12a7-2412-4eaa...   \n",
              "4  image-pre-inspection-photo-ba662eb7-d7ac-4ac4-...   \n",
              "\n",
              "                                            filepath  label  filename_len  \n",
              "0  /content/drive/MyDrive/practicum/data_image_cl...  dryer           104  \n",
              "1  /content/drive/MyDrive/practicum/data_image_cl...  dryer           105  \n",
              "2  /content/drive/MyDrive/practicum/data_image_cl...  dryer           104  \n",
              "3  /content/drive/MyDrive/practicum/data_image_cl...  dryer           105  \n",
              "4  /content/drive/MyDrive/practicum/data_image_cl...  dryer           104  "
            ],
            "text/html": [
              "\n",
              "  <div id=\"df-19183d55-c96a-46a5-9ca7-d5811fb1cf1e\">\n",
              "    <div class=\"colab-df-container\">\n",
              "      <div>\n",
              "<style scoped>\n",
              "    .dataframe tbody tr th:only-of-type {\n",
              "        vertical-align: middle;\n",
              "    }\n",
              "\n",
              "    .dataframe tbody tr th {\n",
              "        vertical-align: top;\n",
              "    }\n",
              "\n",
              "    .dataframe thead th {\n",
              "        text-align: right;\n",
              "    }\n",
              "</style>\n",
              "<table border=\"1\" class=\"dataframe\">\n",
              "  <thead>\n",
              "    <tr style=\"text-align: right;\">\n",
              "      <th></th>\n",
              "      <th>filename</th>\n",
              "      <th>filepath</th>\n",
              "      <th>label</th>\n",
              "      <th>filename_len</th>\n",
              "    </tr>\n",
              "  </thead>\n",
              "  <tbody>\n",
              "    <tr>\n",
              "      <th>0</th>\n",
              "      <td>image-pre-inspection-photo-ce47fce3-174b-4e99-...</td>\n",
              "      <td>/content/drive/MyDrive/practicum/data_image_cl...</td>\n",
              "      <td>dryer</td>\n",
              "      <td>104</td>\n",
              "    </tr>\n",
              "    <tr>\n",
              "      <th>1</th>\n",
              "      <td>image-post-inspection-photo-38ac2393-ee95-45d6...</td>\n",
              "      <td>/content/drive/MyDrive/practicum/data_image_cl...</td>\n",
              "      <td>dryer</td>\n",
              "      <td>105</td>\n",
              "    </tr>\n",
              "    <tr>\n",
              "      <th>2</th>\n",
              "      <td>image-pre-inspection-photo-7fe9fc25-d9ec-4de3-...</td>\n",
              "      <td>/content/drive/MyDrive/practicum/data_image_cl...</td>\n",
              "      <td>dryer</td>\n",
              "      <td>104</td>\n",
              "    </tr>\n",
              "    <tr>\n",
              "      <th>3</th>\n",
              "      <td>image-post-inspection-photo-72bd12a7-2412-4eaa...</td>\n",
              "      <td>/content/drive/MyDrive/practicum/data_image_cl...</td>\n",
              "      <td>dryer</td>\n",
              "      <td>105</td>\n",
              "    </tr>\n",
              "    <tr>\n",
              "      <th>4</th>\n",
              "      <td>image-pre-inspection-photo-ba662eb7-d7ac-4ac4-...</td>\n",
              "      <td>/content/drive/MyDrive/practicum/data_image_cl...</td>\n",
              "      <td>dryer</td>\n",
              "      <td>104</td>\n",
              "    </tr>\n",
              "  </tbody>\n",
              "</table>\n",
              "</div>\n",
              "      <button class=\"colab-df-convert\" onclick=\"convertToInteractive('df-19183d55-c96a-46a5-9ca7-d5811fb1cf1e')\"\n",
              "              title=\"Convert this dataframe to an interactive table.\"\n",
              "              style=\"display:none;\">\n",
              "        \n",
              "  <svg xmlns=\"http://www.w3.org/2000/svg\" height=\"24px\"viewBox=\"0 0 24 24\"\n",
              "       width=\"24px\">\n",
              "    <path d=\"M0 0h24v24H0V0z\" fill=\"none\"/>\n",
              "    <path d=\"M18.56 5.44l.94 2.06.94-2.06 2.06-.94-2.06-.94-.94-2.06-.94 2.06-2.06.94zm-11 1L8.5 8.5l.94-2.06 2.06-.94-2.06-.94L8.5 2.5l-.94 2.06-2.06.94zm10 10l.94 2.06.94-2.06 2.06-.94-2.06-.94-.94-2.06-.94 2.06-2.06.94z\"/><path d=\"M17.41 7.96l-1.37-1.37c-.4-.4-.92-.59-1.43-.59-.52 0-1.04.2-1.43.59L10.3 9.45l-7.72 7.72c-.78.78-.78 2.05 0 2.83L4 21.41c.39.39.9.59 1.41.59.51 0 1.02-.2 1.41-.59l7.78-7.78 2.81-2.81c.8-.78.8-2.07 0-2.86zM5.41 20L4 18.59l7.72-7.72 1.47 1.35L5.41 20z\"/>\n",
              "  </svg>\n",
              "      </button>\n",
              "      \n",
              "  <style>\n",
              "    .colab-df-container {\n",
              "      display:flex;\n",
              "      flex-wrap:wrap;\n",
              "      gap: 12px;\n",
              "    }\n",
              "\n",
              "    .colab-df-convert {\n",
              "      background-color: #E8F0FE;\n",
              "      border: none;\n",
              "      border-radius: 50%;\n",
              "      cursor: pointer;\n",
              "      display: none;\n",
              "      fill: #1967D2;\n",
              "      height: 32px;\n",
              "      padding: 0 0 0 0;\n",
              "      width: 32px;\n",
              "    }\n",
              "\n",
              "    .colab-df-convert:hover {\n",
              "      background-color: #E2EBFA;\n",
              "      box-shadow: 0px 1px 2px rgba(60, 64, 67, 0.3), 0px 1px 3px 1px rgba(60, 64, 67, 0.15);\n",
              "      fill: #174EA6;\n",
              "    }\n",
              "\n",
              "    [theme=dark] .colab-df-convert {\n",
              "      background-color: #3B4455;\n",
              "      fill: #D2E3FC;\n",
              "    }\n",
              "\n",
              "    [theme=dark] .colab-df-convert:hover {\n",
              "      background-color: #434B5C;\n",
              "      box-shadow: 0px 1px 3px 1px rgba(0, 0, 0, 0.15);\n",
              "      filter: drop-shadow(0px 1px 2px rgba(0, 0, 0, 0.3));\n",
              "      fill: #FFFFFF;\n",
              "    }\n",
              "  </style>\n",
              "\n",
              "      <script>\n",
              "        const buttonEl =\n",
              "          document.querySelector('#df-19183d55-c96a-46a5-9ca7-d5811fb1cf1e button.colab-df-convert');\n",
              "        buttonEl.style.display =\n",
              "          google.colab.kernel.accessAllowed ? 'block' : 'none';\n",
              "\n",
              "        async function convertToInteractive(key) {\n",
              "          const element = document.querySelector('#df-19183d55-c96a-46a5-9ca7-d5811fb1cf1e');\n",
              "          const dataTable =\n",
              "            await google.colab.kernel.invokeFunction('convertToInteractive',\n",
              "                                                     [key], {});\n",
              "          if (!dataTable) return;\n",
              "\n",
              "          const docLinkHtml = 'Like what you see? Visit the ' +\n",
              "            '<a target=\"_blank\" href=https://colab.research.google.com/notebooks/data_table.ipynb>data table notebook</a>'\n",
              "            + ' to learn more about interactive tables.';\n",
              "          element.innerHTML = '';\n",
              "          dataTable['output_type'] = 'display_data';\n",
              "          await google.colab.output.renderOutput(dataTable, element);\n",
              "          const docLink = document.createElement('div');\n",
              "          docLink.innerHTML = docLinkHtml;\n",
              "          element.appendChild(docLink);\n",
              "        }\n",
              "      </script>\n",
              "    </div>\n",
              "  </div>\n",
              "  "
            ]
          },
          "metadata": {},
          "execution_count": 37
        }
      ]
    },
    {
      "cell_type": "markdown",
      "source": [
        "### Identify Corrupted Images"
      ],
      "metadata": {
        "id": "gd29kbHcmUoL"
      }
    },
    {
      "cell_type": "code",
      "source": [
        "# identify corrupted images\n",
        "for i in df_metadata.filepath:\n",
        "  v_image = PIL.Image.open(df_metadata.filepath[0])\n",
        "  try:\n",
        "    v_image.verify()\n",
        "  except Exception:\n",
        "    print(f'Invalid image: {i}')\n"
      ],
      "metadata": {
        "id": "x397vPFJnNbZ"
      },
      "execution_count": null,
      "outputs": []
    },
    {
      "cell_type": "markdown",
      "source": [
        "## Data Exploration"
      ],
      "metadata": {
        "id": "hvUuRxOCyMd4"
      }
    },
    {
      "cell_type": "code",
      "source": [
        "# get general idea on frequency counts of different appliances\n",
        "df_metadata.label.value_counts()"
      ],
      "metadata": {
        "colab": {
          "base_uri": "https://localhost:8080/"
        },
        "id": "GOISlC7ZyX0s",
        "outputId": "f8d02997-52e8-4430-a3ce-17148a8f9d39"
      },
      "execution_count": null,
      "outputs": [
        {
          "output_type": "execute_result",
          "data": {
            "text/plain": [
              "dishwasher      984\n",
              "cooking         893\n",
              "washer          608\n",
              "dryer           447\n",
              "refrigerator    371\n",
              "Name: label, dtype: int64"
            ]
          },
          "metadata": {},
          "execution_count": 38
        }
      ]
    },
    {
      "cell_type": "code",
      "source": [
        "# In the first step we will split the data in training and remaining dataset\n",
        "X_train, X_rem, y_train, y_rem = train_test_split(df_metadata[[\"filename\", \"filepath\"]], df_metadata[\"label\"], test_size=0.3, stratify=df_metadata[\"label\"], random_state=42)\n",
        "\n",
        "X_valid, X_test, y_valid, y_test = train_test_split(X_rem, y_rem, test_size=0.33, stratify=y_rem, random_state=42)\n",
        "\n",
        "print(\"train\", X_train.shape, y_train.shape)\n",
        "print(\"validataion\", X_valid.shape, y_valid.shape)\n",
        "print(\"test\", X_test.shape, y_test.shape)\n"
      ],
      "metadata": {
        "colab": {
          "base_uri": "https://localhost:8080/"
        },
        "id": "ZkDzzEATkI2V",
        "outputId": "841dfbf6-5dc0-405d-bf88-0ced7e43ccd5"
      },
      "execution_count": null,
      "outputs": [
        {
          "output_type": "stream",
          "name": "stdout",
          "text": [
            "train (2312, 2) (2312,)\n",
            "validataion (663, 2) (663,)\n",
            "test (328, 2) (328,)\n"
          ]
        }
      ]
    },
    {
      "cell_type": "markdown",
      "source": [
        "## Generate Folder Layout for Deep Learning Purpose"
      ],
      "metadata": {
        "id": "FLSZUV-3zjMa"
      }
    },
    {
      "cell_type": "code",
      "source": [
        "# create folders for train, validation, and test \n",
        "# create sub-folders named in labels\n",
        "\n",
        "for i in ['traing', 'validation', 'test']:\n",
        "  for j in df_metadata.label.unique():\n",
        "    os.makedirs(f\"/content/drive/MyDrive/practicum/data_image_classification/{i}/{j}\", exist_ok = True)"
      ],
      "metadata": {
        "id": "QhVv79A60xMi"
      },
      "execution_count": null,
      "outputs": []
    },
    {
      "cell_type": "code",
      "source": [
        "# generate three data sets to prepare for image copying\n",
        "train_data = pd.concat([X_train, y_train], axis=1)\n",
        "train_data[\"destination\"] = \"/content/drive/MyDrive/practicum/data_image_classification/train/\" + train_data[\"label\"] + \"/\"\n",
        "\n",
        "validation_data = pd.concat([X_valid, y_valid], axis=1)\n",
        "validation_data[\"destination\"] = \"/content/drive/MyDrive/practicum/data_image_classification/validation/\" + validation_data[\"label\"] + \"/\"\n",
        "\n",
        "test_data = pd.concat([X_test, y_test], axis=1)\n",
        "test_data[\"destination\"] = \"/content/drive/MyDrive/practicum/data_image_classification/test/\" + test_data[\"label\"] + \"/\"\n"
      ],
      "metadata": {
        "id": "MvqadTX0kI5O"
      },
      "execution_count": null,
      "outputs": []
    },
    {
      "cell_type": "code",
      "source": [
        "# define a function to do image copying\n",
        "def copy_to_destination(df):\n",
        "  for index, row in df.iterrows():\n",
        "    shutil.copy2(row[\"filepath\"], row[\"destination\"])"
      ],
      "metadata": {
        "id": "ClFiOZIUkI79"
      },
      "execution_count": null,
      "outputs": []
    },
    {
      "cell_type": "code",
      "source": [
        "# copy images to destination folders\n",
        "copy_to_destination(train_data)\n",
        "copy_to_destination(validation_data)\n",
        "copy_to_destination(test_data)"
      ],
      "metadata": {
        "id": "S9gf5j86kI-s"
      },
      "execution_count": null,
      "outputs": []
    },
    {
      "cell_type": "markdown",
      "source": [
        "## Understand Images"
      ],
      "metadata": {
        "id": "sX6oHjZDh9aY"
      }
    },
    {
      "cell_type": "code",
      "source": [
        "size_list = list()\n",
        "for i in df_metadata.filepath:\n",
        "  size_list.append(f\"{cv2.imread(i).shape[0]} * {cv2.imread(i).shape[1]}\")\n",
        "\n",
        "# Most pictures are 1080 * 810\n",
        "pd.Series(size_list).value_counts()"
      ],
      "metadata": {
        "colab": {
          "base_uri": "https://localhost:8080/"
        },
        "id": "l3HSCpyOh8Wb",
        "outputId": "519d7c09-6c83-42a1-faa3-7b80dfe0a2f5"
      },
      "execution_count": null,
      "outputs": [
        {
          "output_type": "execute_result",
          "data": {
            "text/plain": [
              "1080 * 810     3211\n",
              "810 * 1080       57\n",
              "1080 * 549       14\n",
              "1080 * 1080       7\n",
              "1080 * 546        6\n",
              "1080 * 547        3\n",
              "1080 * 552        2\n",
              "1920 * 1080       2\n",
              "466 * 1601        1\n",
              "dtype: int64"
            ]
          },
          "metadata": {},
          "execution_count": 66
        }
      ]
    }
  ]
}