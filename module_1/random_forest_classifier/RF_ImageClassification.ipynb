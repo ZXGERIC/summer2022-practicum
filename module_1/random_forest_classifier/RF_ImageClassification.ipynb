{
  "nbformat": 4,
  "nbformat_minor": 0,
  "metadata": {
    "colab": {
      "name": "RF_ImageClassification.ipynb",
      "provenance": [],
      "collapsed_sections": []
    },
    "kernelspec": {
      "name": "python3",
      "display_name": "Python 3"
    },
    "language_info": {
      "name": "python"
    }
  },
  "cells": [
    {
      "cell_type": "markdown",
      "source": [
        "# CSE 6748 Capstone Project\n",
        "## Asurion Appliance Repair \n",
        "\n",
        "Module 1: Image Classification\n",
        "\n",
        "Kevin Tong in collaboration with Min Fang, Xionggang Zhang"
      ],
      "metadata": {
        "id": "I0Q0tMyVCOWg"
      }
    },
    {
      "cell_type": "markdown",
      "source": [
        "## Import packages"
      ],
      "metadata": {
        "id": "rcBuwWc_Oze8"
      }
    },
    {
      "cell_type": "code",
      "source": [
        "import argparse\n",
        "import asyncio\n",
        "import gc\n",
        "import os\n",
        "import time\n",
        "import pickle\n",
        "from pathlib import Path\n",
        "\n",
        "import matplotlib.pyplot as plt\n",
        "import numpy as np\n",
        "import pandas as pd\n",
        "import tqdm\n",
        "\n",
        "from multiprocessing import (\n",
        "    cpu_count,\n",
        "    Pool\n",
        ")\n",
        "\n",
        "from sklearn.decomposition import PCA\n",
        "from sklearn.ensemble import RandomForestClassifier\n",
        "from PIL import Image\n",
        "# from google.colab import drive\n"
      ],
      "metadata": {
        "id": "qi0qUgzsCoFU"
      },
      "execution_count": 21,
      "outputs": []
    },
    {
      "cell_type": "markdown",
      "source": [
        "## Define helper functions"
      ],
      "metadata": {
        "id": "0PZvEhakQ1PC"
      }
    },
    {
      "cell_type": "code",
      "source": [
        "# mount google drive and add workdir\n",
        "# drive.mount('/content/drive')\n",
        "# PROJECT_ROOT = \"/content/drive/MyDrive/OMSA/CSE6748/data_image_classification\"\n",
        "PROJECT_ROOT = \"/mnt/c/Users/kevto/OneDrive/Classwork/OMSA/Coursework/CSE6748/data_image_classification\"\n",
        "wdir = Path(PROJECT_ROOT)\n",
        "os.chdir(wdir)\n",
        "!ls"
      ],
      "metadata": {
        "colab": {
          "base_uri": "https://localhost:8080/"
        },
        "id": "azpPL_JyC3jR",
        "outputId": "5dd8473d-05ab-4e2b-a9ff-b3e167a5d5ee"
      },
      "execution_count": 2,
      "outputs": [
        {
          "output_type": "stream",
          "name": "stdout",
          "text": [
            "classification_dataset_annotations.xlsx  data  temp\r\n"
          ]
        }
      ]
    },
    {
      "cell_type": "code",
      "source": [
        "# parse summary file & relate images to paths\n",
        "MODULE_1_DATA_DIR = wdir.joinpath(\"data\")\n",
        "df_images = pd.read_excel(\"classification_dataset_annotations.xlsx\")\n",
        "df_images[\"image_path\"] = str(MODULE_1_DATA_DIR) + df_images.example.str.slice(4)\n",
        "\n",
        "# filter specific outliers identified in manual review\n",
        "files_to_filter = [\n",
        "    \"Laundry/SJ48484064/David Garofalo.png\", \n",
        "    \"SJ48309649/signature-next-steps-signature_32d5e8a7-c1e3-4f54-ac7f-9959a002d016.png\", \n",
        "    \"SJ48476945/signature-next-steps-signature_e1347dd4-bdf5-44a5-8c73-a10673da8c87.png\",\n",
        "    \"SJ48173895/signature-next-steps-signature_c11ab8f2-b575-4b56-9901-2feae72382a2.png\"\n",
        "]\n",
        "filepath_filters = []\n",
        "for filepath in files_to_filter:\n",
        "  filepath_filters.append(\n",
        "      df_images.example.str.contains(filepath)\n",
        "  )\n",
        "apply_filepath_filter = np.logical_or.reduce(filepath_filters)\n",
        "df_images_filtered = df_images.loc[~apply_filepath_filter].copy()\n",
        "\n",
        "del df_images\n",
        "del filepath, files_to_filter, filepath_filters\n",
        "gc.collect()"
      ],
      "metadata": {
        "id": "MhfRJTToDAYz",
        "colab": {
          "base_uri": "https://localhost:8080/"
        },
        "outputId": "7c22f6f9-9081-4043-cd08-7e15e92c08a5"
      },
      "execution_count": 3,
      "outputs": [
        {
          "output_type": "execute_result",
          "data": {
            "text/plain": [
              "3471"
            ]
          },
          "metadata": {},
          "execution_count": 3
        }
      ]
    },
    {
      "cell_type": "code",
      "source": [
        "# # optional: preview erroneous images\n",
        "# for _, row in df_images.loc[apply_filepath_filter].iterrows():\n",
        "#   with Image.open(row[\"image_path\"]) as im:\n",
        "#     im.show()"
      ],
      "metadata": {
        "id": "sDBZIaFeWS-r"
      },
      "execution_count": null,
      "outputs": []
    },
    {
      "cell_type": "markdown",
      "source": [
        "## Load and preprocess images\n",
        "Normalize, center, and standardize the data\n"
      ],
      "metadata": {
        "id": "Yg7jkYjeSDKi"
      }
    },
    {
      "cell_type": "code",
      "source": [
        "# run in local runtime w/ Python 3.9\n",
        "async def load_transform_image(image_path):\n",
        "  # read image data and convert to greyscale\n",
        "  # TODO: Handle images with different color channel schemas robustly \n",
        "  with Image.open(image_path).convert(\"L\") as im:\n",
        "    img = np.array(im).astype(\"float32\") / 255  # normalize image data\n",
        "    im.close()\n",
        "  \n",
        "  # center and standardize image data\n",
        "  img = (img - img.mean()) / img.std()  \n",
        "\n",
        "  return img\n",
        "\n",
        "idx_aws, image_data = [], {}\n",
        "\n",
        "# create iterable of awaitable coroutines\n",
        "for i, row in df_images_filtered.iterrows():\n",
        "  idx_aws.append((i, load_transform_image(row.image_path)))\n",
        "  del i, row\n",
        "\n",
        "# iterate through coroutines and log results\n",
        "for i, future in tqdm.tqdm(idx_aws):\n",
        "  image_data[i] = await future\n",
        "  del i, future\n",
        "\n",
        "df_images_filtered.loc[:, \"image_data\"] = image_data.values()\n",
        "\n",
        "del idx_aws, image_data\n",
        "gc.collect()"
      ],
      "metadata": {
        "colab": {
          "base_uri": "https://localhost:8080/"
        },
        "id": "i2ykkuPUm0c3",
        "outputId": "ea7bf33e-a1d2-42e4-a661-ccb47338bbc8"
      },
      "execution_count": 4,
      "outputs": [
        {
          "output_type": "stream",
          "name": "stderr",
          "text": [
            "100%|█████████████████████████████████████████████████| 3302/3302 [00:31<00:00, 105.37it/s]\n"
          ]
        },
        {
          "output_type": "execute_result",
          "data": {
            "text/plain": [
              "0"
            ]
          },
          "metadata": {},
          "execution_count": 4
        }
      ]
    },
    {
      "cell_type": "code",
      "source": [
        "## save / load preprocessed data\n",
        "TEMPDATA_IMG = wdir.joinpath(\"temp\").joinpath(\"df_filtered_images.pck\")\n",
        "\n",
        "# # save preprocessed data\n",
        "# if not os.path.exists(\"temp\"):\n",
        "#     os.mkdir(\"temp\")\n",
        "# df_images_filtered.to_pickle(TEMPDATA_IMG)\n",
        "\n",
        "# # load preprocessed data (if available)\n",
        "# if os.path.exists(TEMPDATA_IMG):\n",
        "#   df_images_filtered = pd.read_pickle(TEMPDATA_IMG)"
      ],
      "metadata": {
        "id": "qv2Vr15WiP9P"
      },
      "execution_count": 121,
      "outputs": []
    },
    {
      "cell_type": "code",
      "source": [
        "# filter for image sizes\n",
        "\n",
        "# check input image dimensions\n",
        "dimensions = {}\n",
        "for x in df_images_filtered.image_data:\n",
        "  xdim = x.shape\n",
        "  if xdim not in dimensions.keys():\n",
        "    dimensions[x.shape] = 1\n",
        "  else:\n",
        "    dimensions[x.shape] += 1\n",
        "\n",
        "print(\"Unfiltered image dimensions:\", \"=\"*30, sep=\"\\n\")\n",
        "[print(k, \":\", v) for k, v in dimensions.items()]\n",
        "\n",
        "# From inspection, we see that 1080 x 810 px is the most common image dimension\n",
        "# and thus focus our project on the this image dimension. This presents an \n",
        "# opportunity for future work in enhancing process robustness\n",
        "# to varying input image sizes\n",
        "\n",
        "# subset input data\n",
        "filter_image_dims = df_images_filtered.image_data.apply(np.shape) == (1080, 810)\n",
        "df_images_filtered = df_images_filtered.loc[filter_image_dims].copy()\n",
        "\n",
        "del dimensions, x, xdim, filter_image_dims\n",
        "gc.collect()"
      ],
      "metadata": {
        "colab": {
          "base_uri": "https://localhost:8080/"
        },
        "id": "8f1bUQxayA32",
        "outputId": "9467bf96-a2c6-4a6f-ec9a-9085f48b4f10"
      },
      "execution_count": 7,
      "outputs": [
        {
          "output_type": "stream",
          "name": "stdout",
          "text": [
            "Unfiltered image dimensions:\n",
            "==============================\n",
            "(1080, 810) : 3211\n",
            "(810, 1080) : 57\n",
            "(1080, 549) : 14\n",
            "(1080, 546) : 6\n",
            "(1080, 1080) : 7\n",
            "(1080, 547) : 3\n",
            "(1080, 552) : 2\n",
            "(1920, 1080) : 2\n"
          ]
        },
        {
          "output_type": "execute_result",
          "data": {
            "text/plain": [
              "515"
            ]
          },
          "metadata": {},
          "execution_count": 7
        }
      ]
    },
    {
      "cell_type": "markdown",
      "source": [
        "# Split data"
      ],
      "metadata": {
        "id": "m3TZ5QSdmtbZ"
      }
    },
    {
      "cell_type": "code",
      "source": [
        "from sklearn.model_selection import train_test_split\n",
        "from sklearn.pipeline import Pipeline\n",
        "\n",
        "from sklearn.experimental import enable_halving_search_cv\n",
        "from sklearn.model_selection import HalvingGridSearchCV\n"
      ],
      "metadata": {
        "id": "i7XNGGf9lhH0"
      },
      "execution_count": 152,
      "outputs": []
    },
    {
      "cell_type": "code",
      "source": [
        "RANDOM_SEED = 42\n",
        "PCT_TRAIN, PCT_VAL, PCT_TEST = 0.7, 0.2, 0.1\n",
        "\n",
        "N_IMAGES = df_images_filtered.shape[0]\n",
        "N_TRAIN = round(N_IMAGES * PCT_TRAIN)\n",
        "N_VAL = round(N_IMAGES * PCT_VAL)\n",
        "N_TEST = round(N_IMAGES * PCT_TEST)\n",
        "assert N_TRAIN + N_VAL + N_TEST == N_IMAGES\n",
        "\n",
        "X = df_images_filtered.image_data.values\n",
        "y = df_images_filtered.label\n",
        "\n",
        "# find left singular vectors\n",
        "left_singular_vectors = np.array([])\n",
        "for i in tqdm.tqdm(range(X.shape[0])):\n",
        "  x = X[i]\n",
        "  u, s, vt = np.linalg.svd(x)\n",
        "  # reduce precision to avoid OOM errors and save results \n",
        "  if left_singular_vectors.shape[0] == 0:\n",
        "    left_singular_vectors = u[0].astype(np.half)\n",
        "  else:\n",
        "    left_singular_vectors = np.vstack(\n",
        "        (left_singular_vectors, u[0].astype(np.half))\n",
        "        )\n",
        "  del u, s, vt, x\n",
        "  if i % 50 == 0: gc.collect()  # periodically free memory\n",
        "us = left_singular_vectors"
      ],
      "metadata": {
        "id": "fWCqVFHHqexg",
        "colab": {
          "base_uri": "https://localhost:8080/"
        },
        "outputId": "07da1d6b-b9e2-4ca9-e2ea-25bb409dda57"
      },
      "execution_count": 142,
      "outputs": [
        {
          "output_type": "stream",
          "name": "stderr",
          "text": [
            "100%|██████████████████████████████████████████████████| 3211/3211 [18:53<00:00,  2.83it/s]\n"
          ]
        }
      ]
    },
    {
      "cell_type": "code",
      "source": [
        "## save / load preprocessed data\n",
        "TEMPDATA_SVD = wdir.joinpath(\"temp\").joinpath(\"left_singular_vectors.npy\")\n",
        "\n",
        "# save preprocessed data\n",
        "if not os.path.exists(\"temp\"): os.mkdir(\"temp\")\n",
        "np.save(TEMPDATA_SVD, left_singular_vectors)\n",
        "\n",
        "# # load preprocessed data (if available)\n",
        "# if os.path.exists(TEMPDATA_SVD):\n",
        "#   us = left_singular_vectors = np.load(TEMPDATA_SVD, allow_pickle=True)"
      ],
      "metadata": {
        "id": "3easo53KTOZi"
      },
      "execution_count": 143,
      "outputs": []
    },
    {
      "cell_type": "code",
      "source": [
        "# # split the data\n",
        "# X_train, X_val_test, y_train, y_val_test = \\\n",
        "#   train_test_split(us, y, \n",
        "#                    test_size=(PCT_VAL + PCT_TEST),\n",
        "#                    random_state=RANDOM_SEED)\n",
        "  \n",
        "# X_val, X_test, y_val, y_test = \\\n",
        "#   train_test_split(X_val_test, y_val_test,\n",
        "#                    train_size=N_VAL, random_state=RANDOM_SEED)\n",
        "  \n",
        "X_train, X_test, y_train, y_test = \\\n",
        "train_test_split(us, y, \n",
        "                  test_size=(PCT_TEST),\n",
        "                  random_state=RANDOM_SEED)"
      ],
      "metadata": {
        "id": "cWqGWoxTYKQe"
      },
      "execution_count": 150,
      "outputs": []
    },
    {
      "cell_type": "code",
      "source": [
        "# perform gridsearch to tune model hyperparameters\n",
        "param_grid = {\n",
        "    \"max_depth\": np.arange(10,110,10),\n",
        "    \"min_samples_split\": np.arange(5,55,5),\n",
        "              }\n",
        "base_estimator = RandomForestClassifier(random_state=RANDOM_SEED)\n",
        "sh = HalvingGridSearchCV(base_estimator, param_grid, cv=5, factor=2, \n",
        "                         resource=\"n_estimators\", max_resources=int(1e3)\n",
        "                         ).fit(X_train, y_train)\n",
        "sh.best_estimator_"
      ],
      "metadata": {
        "colab": {
          "base_uri": "https://localhost:8080/",
          "height": 92
        },
        "id": "ixxnSe6I9uUR",
        "outputId": "3d6c606f-00d1-4f86-b8f5-ff064dc26f6f"
      },
      "execution_count": 162,
      "outputs": [
        {
          "output_type": "execute_result",
          "data": {
            "text/plain": [
              "RandomForestClassifier(max_depth=70, min_samples_split=40, n_estimators=960,\n",
              "                       random_state=42)"
            ],
            "text/html": [
              "<style>#sk-container-id-3 {color: black;background-color: white;}#sk-container-id-3 pre{padding: 0;}#sk-container-id-3 div.sk-toggleable {background-color: white;}#sk-container-id-3 label.sk-toggleable__label {cursor: pointer;display: block;width: 100%;margin-bottom: 0;padding: 0.3em;box-sizing: border-box;text-align: center;}#sk-container-id-3 label.sk-toggleable__label-arrow:before {content: \"▸\";float: left;margin-right: 0.25em;color: #696969;}#sk-container-id-3 label.sk-toggleable__label-arrow:hover:before {color: black;}#sk-container-id-3 div.sk-estimator:hover label.sk-toggleable__label-arrow:before {color: black;}#sk-container-id-3 div.sk-toggleable__content {max-height: 0;max-width: 0;overflow: hidden;text-align: left;background-color: #f0f8ff;}#sk-container-id-3 div.sk-toggleable__content pre {margin: 0.2em;color: black;border-radius: 0.25em;background-color: #f0f8ff;}#sk-container-id-3 input.sk-toggleable__control:checked~div.sk-toggleable__content {max-height: 200px;max-width: 100%;overflow: auto;}#sk-container-id-3 input.sk-toggleable__control:checked~label.sk-toggleable__label-arrow:before {content: \"▾\";}#sk-container-id-3 div.sk-estimator input.sk-toggleable__control:checked~label.sk-toggleable__label {background-color: #d4ebff;}#sk-container-id-3 div.sk-label input.sk-toggleable__control:checked~label.sk-toggleable__label {background-color: #d4ebff;}#sk-container-id-3 input.sk-hidden--visually {border: 0;clip: rect(1px 1px 1px 1px);clip: rect(1px, 1px, 1px, 1px);height: 1px;margin: -1px;overflow: hidden;padding: 0;position: absolute;width: 1px;}#sk-container-id-3 div.sk-estimator {font-family: monospace;background-color: #f0f8ff;border: 1px dotted black;border-radius: 0.25em;box-sizing: border-box;margin-bottom: 0.5em;}#sk-container-id-3 div.sk-estimator:hover {background-color: #d4ebff;}#sk-container-id-3 div.sk-parallel-item::after {content: \"\";width: 100%;border-bottom: 1px solid gray;flex-grow: 1;}#sk-container-id-3 div.sk-label:hover label.sk-toggleable__label {background-color: #d4ebff;}#sk-container-id-3 div.sk-serial::before {content: \"\";position: absolute;border-left: 1px solid gray;box-sizing: border-box;top: 0;bottom: 0;left: 50%;z-index: 0;}#sk-container-id-3 div.sk-serial {display: flex;flex-direction: column;align-items: center;background-color: white;padding-right: 0.2em;padding-left: 0.2em;position: relative;}#sk-container-id-3 div.sk-item {position: relative;z-index: 1;}#sk-container-id-3 div.sk-parallel {display: flex;align-items: stretch;justify-content: center;background-color: white;position: relative;}#sk-container-id-3 div.sk-item::before, #sk-container-id-3 div.sk-parallel-item::before {content: \"\";position: absolute;border-left: 1px solid gray;box-sizing: border-box;top: 0;bottom: 0;left: 50%;z-index: -1;}#sk-container-id-3 div.sk-parallel-item {display: flex;flex-direction: column;z-index: 1;position: relative;background-color: white;}#sk-container-id-3 div.sk-parallel-item:first-child::after {align-self: flex-end;width: 50%;}#sk-container-id-3 div.sk-parallel-item:last-child::after {align-self: flex-start;width: 50%;}#sk-container-id-3 div.sk-parallel-item:only-child::after {width: 0;}#sk-container-id-3 div.sk-dashed-wrapped {border: 1px dashed gray;margin: 0 0.4em 0.5em 0.4em;box-sizing: border-box;padding-bottom: 0.4em;background-color: white;}#sk-container-id-3 div.sk-label label {font-family: monospace;font-weight: bold;display: inline-block;line-height: 1.2em;}#sk-container-id-3 div.sk-label-container {text-align: center;}#sk-container-id-3 div.sk-container {/* jupyter's `normalize.less` sets `[hidden] { display: none; }` but bootstrap.min.css set `[hidden] { display: none !important; }` so we also need the `!important` here to be able to override the default hidden behavior on the sphinx rendered scikit-learn.org. See: https://github.com/scikit-learn/scikit-learn/issues/21755 */display: inline-block !important;position: relative;}#sk-container-id-3 div.sk-text-repr-fallback {display: none;}</style><div id=\"sk-container-id-3\" class=\"sk-top-container\"><div class=\"sk-text-repr-fallback\"><pre>RandomForestClassifier(max_depth=70, min_samples_split=40, n_estimators=960,\n",
              "                       random_state=42)</pre><b>In a Jupyter environment, please rerun this cell to show the HTML representation or trust the notebook. <br />On GitHub, the HTML representation is unable to render, please try loading this page with nbviewer.org.</b></div><div class=\"sk-container\" hidden><div class=\"sk-item\"><div class=\"sk-estimator sk-toggleable\"><input class=\"sk-toggleable__control sk-hidden--visually\" id=\"sk-estimator-id-3\" type=\"checkbox\" checked><label for=\"sk-estimator-id-3\" class=\"sk-toggleable__label sk-toggleable__label-arrow\">RandomForestClassifier</label><div class=\"sk-toggleable__content\"><pre>RandomForestClassifier(max_depth=70, min_samples_split=40, n_estimators=960,\n",
              "                       random_state=42)</pre></div></div></div></div></div>"
            ]
          },
          "metadata": {},
          "execution_count": 162
        }
      ]
    },
    {
      "cell_type": "code",
      "source": [
        "## save / load classifier model\n",
        "import joblib\n",
        "TEMPDATA_RFCLF = wdir.joinpath(\"temp\").joinpath(\"rf_classifier.joblib\")\n",
        "\n",
        "# save classifier model\n",
        "if not os.path.exists(\"temp\"): os.mkdir(\"temp\")\n",
        "joblib.dump(sh, TEMPDATA_RFCLF)\n",
        "\n",
        "# # load classifier model (if available)\n",
        "# if os.path.exists(TEMPDATA_RFCLF):\n",
        "#   sh = joblib.load(TEMPDATA_RFCLF)"
      ],
      "metadata": {
        "colab": {
          "base_uri": "https://localhost:8080/"
        },
        "id": "mUrkU-AMWaRr",
        "outputId": "36ffe08d-7dc5-43f5-95d2-ecaa8ecffddd"
      },
      "execution_count": 167,
      "outputs": [
        {
          "output_type": "execute_result",
          "data": {
            "text/plain": [
              "['/mnt/c/Users/kevto/OneDrive/Classwork/OMSA/Coursework/CSE6748/data_image_classification/temp/rf_classifier.joblib']"
            ]
          },
          "metadata": {},
          "execution_count": 167
        }
      ]
    },
    {
      "cell_type": "code",
      "source": [
        "# visualize gridsearch results\n",
        "\n",
        "temp = pd.DataFrame(sh.cv_results_)\n",
        "\n",
        "# report mean and standard deviation of test and train scores across iterations\n",
        "mean_train = temp.groupby(\"iter\").mean_train_score.mean()\n",
        "mean_test = temp.groupby(\"iter\").mean_test_score.mean()\n",
        "std_train = temp.groupby(\"iter\").mean_train_score.std()\n",
        "std_test = temp.groupby(\"iter\").mean_test_score.std()\n",
        "\n",
        "# visualization\n",
        "fig, ax = plt.subplots(figsize=(8,8))\n",
        "\n",
        "ax.scatter(x=temp.iter, y=temp.mean_train_score, \n",
        "           label=\"Train Accuracy\", alpha=0.5)\n",
        "ax.plot(mean_train + 2*std_train, c=\"blue\", alpha=0.25)\n",
        "ax.plot(mean_train - 2*std_train, c=\"blue\", alpha=0.25)\n",
        "\n",
        "ax.scatter(x=temp.iter, y=temp.mean_test_score, \n",
        "           label=\"Test Accuracy\", alpha=0.5)\n",
        "ax.plot(mean_test + 2*std_test, c=\"orange\", alpha=0.25)\n",
        "ax.plot(mean_test - 2*std_test, c=\"orange\", alpha=0.25)\n",
        "\n",
        "labels = [\n",
        "    f\"iter={i}\\nn_samples={sh.n_resources_[i]}\\nn_candidates={sh.n_candidates_[i]}\"\n",
        "    for i in range(sh.n_iterations_)\n",
        "]\n",
        "\n",
        "# annotate figure\n",
        "ax.set_xticks(range(sh.n_iterations_))\n",
        "ax.set_xticklabels(labels, rotation=45, multialignment=\"left\")\n",
        "ax.set_title(\"Halving Gridsearch with 5-fold Cross Validation:\\nClassification Accuracy over iterations\", fontsize=15)\n",
        "ax.set_ylabel(\"Accuracy\", fontsize=15)\n",
        "ax.set_xlabel(\"Iterations\", fontsize=15)\n",
        "ax.set_ylim(0, 1)\n",
        "plt.tight_layout()\n",
        "ax.grid()\n",
        "ax.legend(fontsize=12)\n",
        "plt.show()"
      ],
      "metadata": {
        "colab": {
          "base_uri": "https://localhost:8080/",
          "height": 585
        },
        "id": "IEhM-yXgY6xG",
        "outputId": "ae25508d-5941-4b68-f4f6-c92e63dc52ba"
      },
      "execution_count": 339,
      "outputs": [
        {
          "output_type": "display_data",
          "data": {
            "text/plain": [
              "<Figure size 576x576 with 1 Axes>"
            ],
            "image/png": "[encoded data removed]"
          },
          "metadata": {
            "needs_background": "light"
          }
        }
      ]
    },
    {
      "cell_type": "code",
      "source": [
        "temp.iloc[-2].mean_fit_time"
      ],
      "metadata": {
        "colab": {
          "base_uri": "https://localhost:8080/"
        },
        "id": "1_hApayHKO0R",
        "outputId": "2c8eb082-246c-4f6e-cec3-ce34704746b5"
      },
      "execution_count": 350,
      "outputs": [
        {
          "output_type": "execute_result",
          "data": {
            "text/plain": [
              "32.61927318572998"
            ]
          },
          "metadata": {},
          "execution_count": 350
        }
      ]
    },
    {
      "cell_type": "code",
      "source": [
        "print(sh.best_estimator_.score(X_train, y_train))\n",
        "print(sh.best_estimator_.score(X_test, y_test))"
      ],
      "metadata": {
        "id": "2jzVNUnlEGkW",
        "colab": {
          "base_uri": "https://localhost:8080/"
        },
        "outputId": "7e359119-6f00-4bd7-e6e3-61211a8c1ada"
      },
      "execution_count": 311,
      "outputs": [
        {
          "output_type": "stream",
          "name": "stdout",
          "text": [
            "0.7902388369678089\n",
            "0.6666666666666666\n",
            "0.4409937888198758\n"
          ]
        }
      ]
    },
    {
      "cell_type": "markdown",
      "source": [
        "## Repeat experiment for first two eigenvectors"
      ],
      "metadata": {
        "id": "zaa3QMUexKB1"
      }
    },
    {
      "cell_type": "code",
      "source": [
        "RANDOM_SEED = 42\n",
        "PCT_TRAIN, PCT_VAL, PCT_TEST = 0.7, 0.2, 0.1\n",
        "\n",
        "N_IMAGES = df_images_filtered.shape[0]\n",
        "N_TRAIN = round(N_IMAGES * PCT_TRAIN)\n",
        "N_VAL = round(N_IMAGES * PCT_VAL)\n",
        "N_TEST = round(N_IMAGES * PCT_TEST)\n",
        "assert N_TRAIN + N_VAL + N_TEST == N_IMAGES\n",
        "\n",
        "X = df_images_filtered.image_data.values\n",
        "y = df_images_filtered.label\n",
        "\n",
        "# find left singular vectors\n",
        "left_singular_vectors = np.array([])\n",
        "for i in tqdm.tqdm(range(X.shape[0])):\n",
        "  x = X[i]\n",
        "  u, s, vt = np.linalg.svd(x)\n",
        "  # reduce precision to avoid OOM errors and save results \n",
        "  if left_singular_vectors.shape[0] == 0:\n",
        "    left_singular_vectors = np.hstack(\n",
        "        (u[0].astype(np.half), u[1].astype(np.half))\n",
        "        )\n",
        "  else:\n",
        "    left_singular_vectors = np.vstack(\n",
        "        (left_singular_vectors, \n",
        "         np.hstack((u[0].astype(np.half), u[1].astype(np.half)))\n",
        "        )\n",
        "      )\n",
        "  del u, s, vt, x\n",
        "  if i % 50 == 0: gc.collect()  # periodically free memory\n",
        "us2 = left_singular_vectors2"
      ],
      "metadata": {
        "colab": {
          "base_uri": "https://localhost:8080/"
        },
        "id": "kLcYWo7dtL2n",
        "outputId": "83dd5706-7193-4d14-d55b-a608bb255b4f"
      },
      "execution_count": 325,
      "outputs": [
        {
          "output_type": "stream",
          "name": "stderr",
          "text": [
            "100%|██████████████████████████████████████████████████| 3211/3211 [19:00<00:00,  2.82it/s]\n"
          ]
        }
      ]
    },
    {
      "cell_type": "code",
      "source": [
        "## save / load preprocessed data\n",
        "TEMPDATA_SVD2 = wdir.joinpath(\"temp\").joinpath(\"left_singular_vectors2.npy\")\n",
        "\n",
        "# save preprocessed data\n",
        "if not os.path.exists(\"temp\"): os.mkdir(\"temp\")\n",
        "np.save(TEMPDATA_SVD, left_singular_vectors2)\n",
        "\n",
        "# # load preprocessed data (if available)\n",
        "# if os.path.exists(TEMPDATA_SVD):\n",
        "#   us2 = left_singular_vectors2 = np.load(TEMPDATA_SVD2, allow_pickle=True)"
      ],
      "metadata": {
        "id": "y45foIIcy1g-"
      },
      "execution_count": 327,
      "outputs": []
    },
    {
      "cell_type": "code",
      "source": [
        "# split the data\n",
        "X_train, X_test, y_train, y_test = \\\n",
        "train_test_split(us2, y, \n",
        "                  test_size=(PCT_TEST),\n",
        "                  random_state=RANDOM_SEED)"
      ],
      "metadata": {
        "id": "sugl2_xU3cyn"
      },
      "execution_count": 330,
      "outputs": []
    },
    {
      "cell_type": "code",
      "source": [
        "# perform gridsearch to tune model hyperparameters\n",
        "param_grid = {\n",
        "    \"max_depth\": np.arange(10,110,10),\n",
        "    \"min_samples_split\": np.arange(5,55,5),\n",
        "              }\n",
        "base_estimator = RandomForestClassifier(random_state=RANDOM_SEED)\n",
        "sh2 = HalvingGridSearchCV(base_estimator, param_grid, cv=5, factor=2, \n",
        "                         resource=\"n_estimators\", max_resources=int(1e3)\n",
        "                         ).fit(X_train, y_train)\n",
        "sh2.best_estimator_"
      ],
      "metadata": {
        "colab": {
          "base_uri": "https://localhost:8080/",
          "height": 92
        },
        "id": "C-1d0ZCM3jNO",
        "outputId": "927f0e7a-dccb-4403-8180-2b9c60b0a6cc"
      },
      "execution_count": 331,
      "outputs": [
        {
          "output_type": "execute_result",
          "data": {
            "text/plain": [
              "RandomForestClassifier(max_depth=10, min_samples_split=25, n_estimators=960,\n",
              "                       random_state=42)"
            ],
            "text/html": [
              "<style>#sk-container-id-5 {color: black;background-color: white;}#sk-container-id-5 pre{padding: 0;}#sk-container-id-5 div.sk-toggleable {background-color: white;}#sk-container-id-5 label.sk-toggleable__label {cursor: pointer;display: block;width: 100%;margin-bottom: 0;padding: 0.3em;box-sizing: border-box;text-align: center;}#sk-container-id-5 label.sk-toggleable__label-arrow:before {content: \"▸\";float: left;margin-right: 0.25em;color: #696969;}#sk-container-id-5 label.sk-toggleable__label-arrow:hover:before {color: black;}#sk-container-id-5 div.sk-estimator:hover label.sk-toggleable__label-arrow:before {color: black;}#sk-container-id-5 div.sk-toggleable__content {max-height: 0;max-width: 0;overflow: hidden;text-align: left;background-color: #f0f8ff;}#sk-container-id-5 div.sk-toggleable__content pre {margin: 0.2em;color: black;border-radius: 0.25em;background-color: #f0f8ff;}#sk-container-id-5 input.sk-toggleable__control:checked~div.sk-toggleable__content {max-height: 200px;max-width: 100%;overflow: auto;}#sk-container-id-5 input.sk-toggleable__control:checked~label.sk-toggleable__label-arrow:before {content: \"▾\";}#sk-container-id-5 div.sk-estimator input.sk-toggleable__control:checked~label.sk-toggleable__label {background-color: #d4ebff;}#sk-container-id-5 div.sk-label input.sk-toggleable__control:checked~label.sk-toggleable__label {background-color: #d4ebff;}#sk-container-id-5 input.sk-hidden--visually {border: 0;clip: rect(1px 1px 1px 1px);clip: rect(1px, 1px, 1px, 1px);height: 1px;margin: -1px;overflow: hidden;padding: 0;position: absolute;width: 1px;}#sk-container-id-5 div.sk-estimator {font-family: monospace;background-color: #f0f8ff;border: 1px dotted black;border-radius: 0.25em;box-sizing: border-box;margin-bottom: 0.5em;}#sk-container-id-5 div.sk-estimator:hover {background-color: #d4ebff;}#sk-container-id-5 div.sk-parallel-item::after {content: \"\";width: 100%;border-bottom: 1px solid gray;flex-grow: 1;}#sk-container-id-5 div.sk-label:hover label.sk-toggleable__label {background-color: #d4ebff;}#sk-container-id-5 div.sk-serial::before {content: \"\";position: absolute;border-left: 1px solid gray;box-sizing: border-box;top: 0;bottom: 0;left: 50%;z-index: 0;}#sk-container-id-5 div.sk-serial {display: flex;flex-direction: column;align-items: center;background-color: white;padding-right: 0.2em;padding-left: 0.2em;position: relative;}#sk-container-id-5 div.sk-item {position: relative;z-index: 1;}#sk-container-id-5 div.sk-parallel {display: flex;align-items: stretch;justify-content: center;background-color: white;position: relative;}#sk-container-id-5 div.sk-item::before, #sk-container-id-5 div.sk-parallel-item::before {content: \"\";position: absolute;border-left: 1px solid gray;box-sizing: border-box;top: 0;bottom: 0;left: 50%;z-index: -1;}#sk-container-id-5 div.sk-parallel-item {display: flex;flex-direction: column;z-index: 1;position: relative;background-color: white;}#sk-container-id-5 div.sk-parallel-item:first-child::after {align-self: flex-end;width: 50%;}#sk-container-id-5 div.sk-parallel-item:last-child::after {align-self: flex-start;width: 50%;}#sk-container-id-5 div.sk-parallel-item:only-child::after {width: 0;}#sk-container-id-5 div.sk-dashed-wrapped {border: 1px dashed gray;margin: 0 0.4em 0.5em 0.4em;box-sizing: border-box;padding-bottom: 0.4em;background-color: white;}#sk-container-id-5 div.sk-label label {font-family: monospace;font-weight: bold;display: inline-block;line-height: 1.2em;}#sk-container-id-5 div.sk-label-container {text-align: center;}#sk-container-id-5 div.sk-container {/* jupyter's `normalize.less` sets `[hidden] { display: none; }` but bootstrap.min.css set `[hidden] { display: none !important; }` so we also need the `!important` here to be able to override the default hidden behavior on the sphinx rendered scikit-learn.org. See: https://github.com/scikit-learn/scikit-learn/issues/21755 */display: inline-block !important;position: relative;}#sk-container-id-5 div.sk-text-repr-fallback {display: none;}</style><div id=\"sk-container-id-5\" class=\"sk-top-container\"><div class=\"sk-text-repr-fallback\"><pre>RandomForestClassifier(max_depth=10, min_samples_split=25, n_estimators=960,\n",
              "                       random_state=42)</pre><b>In a Jupyter environment, please rerun this cell to show the HTML representation or trust the notebook. <br />On GitHub, the HTML representation is unable to render, please try loading this page with nbviewer.org.</b></div><div class=\"sk-container\" hidden><div class=\"sk-item\"><div class=\"sk-estimator sk-toggleable\"><input class=\"sk-toggleable__control sk-hidden--visually\" id=\"sk-estimator-id-5\" type=\"checkbox\" checked><label for=\"sk-estimator-id-5\" class=\"sk-toggleable__label sk-toggleable__label-arrow\">RandomForestClassifier</label><div class=\"sk-toggleable__content\"><pre>RandomForestClassifier(max_depth=10, min_samples_split=25, n_estimators=960,\n",
              "                       random_state=42)</pre></div></div></div></div></div>"
            ]
          },
          "metadata": {},
          "execution_count": 331
        }
      ]
    },
    {
      "cell_type": "code",
      "source": [
        "print(sh2.best_estimator_.score(X_train, y_train))\n",
        "print(sh2.best_estimator_.score(X_test, y_test))"
      ],
      "metadata": {
        "colab": {
          "base_uri": "https://localhost:8080/"
        },
        "id": "pP214bB43jl9",
        "outputId": "8666c28c-0320-45f0-ec32-67221ca6ad2f"
      },
      "execution_count": 333,
      "outputs": [
        {
          "output_type": "stream",
          "name": "stdout",
          "text": [
            "0.6839736933194878\n",
            "0.4409937888198758\n"
          ]
        }
      ]
    },
    {
      "cell_type": "code",
      "source": [
        "test_clf = RandomForestClassifier(n_estimators=int(1e4), max_depth=10, min_samples_split=25, random_state=RANDOM_SEED)\n",
        "test_clf.fit(X_train, y_train)\n",
        "test_clf.score(X_test, y_test)"
      ],
      "metadata": {
        "colab": {
          "base_uri": "https://localhost:8080/"
        },
        "id": "YvrP-zh6B-cx",
        "outputId": "2ed495c9-5fbb-4712-d9b3-cc546d3300d8"
      },
      "execution_count": 334,
      "outputs": [
        {
          "output_type": "execute_result",
          "data": {
            "text/plain": [
              "0.4409937888198758"
            ]
          },
          "metadata": {},
          "execution_count": 334
        }
      ]
    },
    {
      "cell_type": "code",
      "source": [
        "# visualize gridsearch results\n",
        "\n",
        "temp = pd.DataFrame(sh2.cv_results_)\n",
        "\n",
        "# report mean and standard deviation of test and train scores across iterations\n",
        "mean_train = temp.groupby(\"iter\").mean_train_score.mean()\n",
        "mean_test = temp.groupby(\"iter\").mean_test_score.mean()\n",
        "std_train = temp.groupby(\"iter\").mean_train_score.std()\n",
        "std_test = temp.groupby(\"iter\").mean_test_score.std()\n",
        "\n",
        "# visualization\n",
        "fig, ax = plt.subplots(figsize=(8,8))\n",
        "\n",
        "ax.scatter(x=temp.iter, y=temp.mean_train_score, \n",
        "           label=\"Train Accuracy\", alpha=0.5)\n",
        "ax.plot(mean_train + 2*std_train, c=\"blue\", alpha=0.25)\n",
        "ax.plot(mean_train - 2*std_train, c=\"blue\", alpha=0.25)\n",
        "\n",
        "ax.scatter(x=temp.iter, y=temp.mean_test_score, \n",
        "           label=\"Test Accuracy\", alpha=0.5)\n",
        "ax.plot(mean_test + 2*std_test, c=\"orange\", alpha=0.25)\n",
        "ax.plot(mean_test - 2*std_test, c=\"orange\", alpha=0.25)\n",
        "\n",
        "labels = [\n",
        "    f\"iter={i}\\nn_samples={sh.n_resources_[i]}\\nn_candidates={sh.n_candidates_[i]}\"\n",
        "    for i in range(sh.n_iterations_)\n",
        "]\n",
        "\n",
        "# annotate figure\n",
        "ax.set_xticks(range(sh.n_iterations_))\n",
        "ax.set_xticklabels(labels, rotation=45, multialignment=\"left\")\n",
        "ax.set_title(\"Halving Gridsearch with 5-fold Cross Validation:\\nClassification Accuracy over iterations\", fontsize=15)\n",
        "ax.set_ylabel(\"Accuracy\", fontsize=15)\n",
        "ax.set_xlabel(\"Iterations\", fontsize=15)\n",
        "ax.set_ylim(0, 1)\n",
        "plt.tight_layout()\n",
        "ax.grid()\n",
        "ax.legend(fontsize=12)\n",
        "plt.show()"
      ],
      "metadata": {
        "colab": {
          "base_uri": "https://localhost:8080/",
          "height": 585
        },
        "id": "ImJbopceCaZF",
        "outputId": "13ae9bc4-76f5-4c0d-a8cf-d3b23a830c55"
      },
      "execution_count": 336,
      "outputs": [
        {
          "output_type": "display_data",
          "data": {
            "text/plain": [
              "<Figure size 576x576 with 1 Axes>"
            ],
            "image/png": "[encoded data removed]"
          },
          "metadata": {
            "needs_background": "light"
          }
        }
      ]
    },
    {
      "cell_type": "code",
      "source": [
        "## save / load classifier model\n",
        "TEMPDATA_RFCLF2 = wdir.joinpath(\"temp\").joinpath(\"rf_classifier2.joblib\")\n",
        "\n",
        "# save classifier model\n",
        "if not os.path.exists(\"temp\"): os.mkdir(\"temp\")\n",
        "joblib.dump(sh2, TEMPDATA_RFCLF2)"
      ],
      "metadata": {
        "colab": {
          "base_uri": "https://localhost:8080/"
        },
        "id": "ORr8cKJgJxAh",
        "outputId": "65a87e00-0e3d-46d6-8b18-575f0a47e841"
      },
      "execution_count": 338,
      "outputs": [
        {
          "output_type": "execute_result",
          "data": {
            "text/plain": [
              "['/mnt/c/Users/kevto/OneDrive/Classwork/OMSA/Coursework/CSE6748/data_image_classification/temp/rf_classifier2.joblib']"
            ]
          },
          "metadata": {},
          "execution_count": 338
        }
      ]
    },
    {
      "cell_type": "code",
      "source": [
        ""
      ],
      "metadata": {
        "id": "gpLfKMg6KJwY"
      },
      "execution_count": null,
      "outputs": []
    }
  ]
}